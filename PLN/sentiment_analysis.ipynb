{
 "cells": [
  {
   "cell_type": "markdown",
   "metadata": {},
   "source": [
    "# <font color = 'red'> Analisando Sentimentos das reclamações</font>"
   ]
  },
  {
   "cell_type": "code",
   "execution_count": 1,
   "metadata": {},
   "outputs": [],
   "source": [
    "!pip install -q textblob"
   ]
  },
  {
   "cell_type": "code",
   "execution_count": 27,
   "metadata": {},
   "outputs": [
    {
     "name": "stdout",
     "output_type": "stream",
     "text": [
      "Collecting transformers\n",
      "  Downloading transformers-4.46.2-py3-none-any.whl (10.0 MB)\n",
      "     --------------------------------------- 10.0/10.0 MB 13.1 MB/s eta 0:00:00\n",
      "Requirement already satisfied: pyyaml>=5.1 in c:\\users\\alyss\\anaconda3\\lib\\site-packages (from transformers) (6.0)\n",
      "Collecting huggingface-hub<1.0,>=0.23.2\n",
      "  Downloading huggingface_hub-0.26.2-py3-none-any.whl (447 kB)\n",
      "     -------------------------------------- 447.5/447.5 kB 5.6 MB/s eta 0:00:00\n",
      "Collecting tokenizers<0.21,>=0.20\n",
      "  Downloading tokenizers-0.20.3-cp39-none-win_amd64.whl (2.4 MB)\n",
      "     ---------------------------------------- 2.4/2.4 MB 13.8 MB/s eta 0:00:00\n",
      "Requirement already satisfied: filelock in c:\\users\\alyss\\anaconda3\\lib\\site-packages (from transformers) (3.6.0)\n",
      "Requirement already satisfied: tqdm>=4.27 in c:\\users\\alyss\\anaconda3\\lib\\site-packages (from transformers) (4.64.1)\n",
      "Collecting safetensors>=0.4.1\n",
      "  Downloading safetensors-0.4.5-cp39-none-win_amd64.whl (286 kB)\n",
      "     -------------------------------------- 286.1/286.1 kB 8.6 MB/s eta 0:00:00\n",
      "Requirement already satisfied: packaging>=20.0 in c:\\users\\alyss\\anaconda3\\lib\\site-packages (from transformers) (21.3)\n",
      "Requirement already satisfied: regex!=2019.12.17 in c:\\users\\alyss\\anaconda3\\lib\\site-packages (from transformers) (2022.7.9)\n",
      "Requirement already satisfied: requests in c:\\users\\alyss\\anaconda3\\lib\\site-packages (from transformers) (2.28.1)\n",
      "Requirement already satisfied: numpy>=1.17 in c:\\users\\alyss\\anaconda3\\lib\\site-packages (from transformers) (1.22.2)\n",
      "Collecting fsspec>=2023.5.0\n",
      "  Downloading fsspec-2024.10.0-py3-none-any.whl (179 kB)\n",
      "     -------------------------------------- 179.6/179.6 kB 5.5 MB/s eta 0:00:00\n",
      "Requirement already satisfied: typing-extensions>=3.7.4.3 in c:\\users\\alyss\\anaconda3\\lib\\site-packages (from huggingface-hub<1.0,>=0.23.2->transformers) (4.12.2)\n",
      "Requirement already satisfied: pyparsing!=3.0.5,>=2.0.2 in c:\\users\\alyss\\anaconda3\\lib\\site-packages (from packaging>=20.0->transformers) (3.0.9)\n",
      "Requirement already satisfied: colorama in c:\\users\\alyss\\anaconda3\\lib\\site-packages (from tqdm>=4.27->transformers) (0.4.6)\n",
      "Requirement already satisfied: charset-normalizer<3,>=2 in c:\\users\\alyss\\anaconda3\\lib\\site-packages (from requests->transformers) (2.0.4)\n",
      "Requirement already satisfied: urllib3<1.27,>=1.21.1 in c:\\users\\alyss\\anaconda3\\lib\\site-packages (from requests->transformers) (1.26.11)\n",
      "Requirement already satisfied: idna<4,>=2.5 in c:\\users\\alyss\\anaconda3\\lib\\site-packages (from requests->transformers) (3.3)\n",
      "Requirement already satisfied: certifi>=2017.4.17 in c:\\users\\alyss\\anaconda3\\lib\\site-packages (from requests->transformers) (2022.9.14)\n",
      "Installing collected packages: safetensors, fsspec, huggingface-hub, tokenizers, transformers\n",
      "  Attempting uninstall: fsspec\n",
      "    Found existing installation: fsspec 2022.7.1\n",
      "    Uninstalling fsspec-2022.7.1:\n",
      "      Successfully uninstalled fsspec-2022.7.1\n",
      "Successfully installed fsspec-2024.10.0 huggingface-hub-0.26.2 safetensors-0.4.5 tokenizers-0.20.3 transformers-4.46.2\n"
     ]
    }
   ],
   "source": [
    "!pip install transformers"
   ]
  },
  {
   "cell_type": "code",
   "execution_count": 28,
   "metadata": {},
   "outputs": [],
   "source": [
    "# Imports\n",
    "import os\n",
    "import re\n",
    "import numpy as np\n",
    "import pandas as pd\n",
    "import matplotlib.pyplot as plt\n",
    "import seaborn as sns\n",
    "\n",
    "from transformers import AutoTokenizer, AutoModel\n",
    "import torch\n",
    "\n",
    "from textblob import TextBlob\n",
    "\n",
    "import warnings\n",
    "warnings.filterwarnings('ignore')"
   ]
  },
  {
   "cell_type": "code",
   "execution_count": 39,
   "metadata": {},
   "outputs": [],
   "source": [
    "dados_sentimento = pd.read_csv('/Projetos Pessoais/DataScience/PLN_Text_Analysis/data/dados_financeiros_sentimentos.csv',\n",
    "                       sep =',')"
   ]
  },
  {
   "cell_type": "code",
   "execution_count": 40,
   "metadata": {},
   "outputs": [
    {
     "data": {
      "text/html": [
       "<div>\n",
       "<style scoped>\n",
       "    .dataframe tbody tr th:only-of-type {\n",
       "        vertical-align: middle;\n",
       "    }\n",
       "\n",
       "    .dataframe tbody tr th {\n",
       "        vertical-align: top;\n",
       "    }\n",
       "\n",
       "    .dataframe thead th {\n",
       "        text-align: right;\n",
       "    }\n",
       "</style>\n",
       "<table border=\"1\" class=\"dataframe\">\n",
       "  <thead>\n",
       "    <tr style=\"text-align: right;\">\n",
       "      <th></th>\n",
       "      <th>Empresa</th>\n",
       "      <th>Relato</th>\n",
       "      <th>Avaliacao</th>\n",
       "    </tr>\n",
       "  </thead>\n",
       "  <tbody>\n",
       "    <tr>\n",
       "      <th>1354</th>\n",
       "      <td>Banco Inter (Banco Intermedium)</td>\n",
       "      <td>tenho uma divida com um cartao de credito e su...</td>\n",
       "      <td>4</td>\n",
       "    </tr>\n",
       "    <tr>\n",
       "      <th>1403</th>\n",
       "      <td>Banco do Brasil</td>\n",
       "      <td>pretendo renegociar a pendência. porém com os ...</td>\n",
       "      <td>1</td>\n",
       "    </tr>\n",
       "    <tr>\n",
       "      <th>205</th>\n",
       "      <td>Caixa Econômica Federal</td>\n",
       "      <td>29102024 1641  55 21 xxxxxx981 caro a aluno a ...</td>\n",
       "      <td>1</td>\n",
       "    </tr>\n",
       "    <tr>\n",
       "      <th>1344</th>\n",
       "      <td>Caixa Econômica Federal</td>\n",
       "      <td>informo que a caixa econômica não reduz os jur...</td>\n",
       "      <td>2</td>\n",
       "    </tr>\n",
       "    <tr>\n",
       "      <th>1609</th>\n",
       "      <td>Banco do Brasil</td>\n",
       "      <td>já fui na agência do banco do brasil duas veze...</td>\n",
       "      <td>1</td>\n",
       "    </tr>\n",
       "  </tbody>\n",
       "</table>\n",
       "</div>"
      ],
      "text/plain": [
       "                              Empresa  \\\n",
       "1354  Banco Inter (Banco Intermedium)   \n",
       "1403                  Banco do Brasil   \n",
       "205           Caixa Econômica Federal   \n",
       "1344          Caixa Econômica Federal   \n",
       "1609                  Banco do Brasil   \n",
       "\n",
       "                                                 Relato  Avaliacao  \n",
       "1354  tenho uma divida com um cartao de credito e su...          4  \n",
       "1403  pretendo renegociar a pendência. porém com os ...          1  \n",
       "205   29102024 1641  55 21 xxxxxx981 caro a aluno a ...          1  \n",
       "1344  informo que a caixa econômica não reduz os jur...          2  \n",
       "1609  já fui na agência do banco do brasil duas veze...          1  "
      ]
     },
     "execution_count": 40,
     "metadata": {},
     "output_type": "execute_result"
    }
   ],
   "source": [
    "dados_sentimento.sample(5)"
   ]
  },
  {
   "cell_type": "code",
   "execution_count": 41,
   "metadata": {},
   "outputs": [
    {
     "data": {
      "text/plain": [
       "(1920, 3)"
      ]
     },
     "execution_count": 41,
     "metadata": {},
     "output_type": "execute_result"
    }
   ],
   "source": [
    "dados_sentimento.shape"
   ]
  },
  {
   "cell_type": "code",
   "execution_count": 35,
   "metadata": {},
   "outputs": [],
   "source": [
    "### Função para obter subjetividade\n",
    "def subjetividade(text):\n",
    " blob = TextBlob(text)\n",
    " return blob.sentiment.subjectivity"
   ]
  },
  {
   "cell_type": "code",
   "execution_count": 36,
   "metadata": {},
   "outputs": [],
   "source": [
    "# Função para obter polaridade\n",
    "def polaridade(text):\n",
    " blob = TextBlob(text)\n",
    " return blob.sentiment.polarity"
   ]
  },
  {
   "cell_type": "code",
   "execution_count": 37,
   "metadata": {},
   "outputs": [],
   "source": [
    "# Adicionando no DF\n",
    "dados_sentimento['Subjetividade'] = dados_sentimento['Relato'].apply(subjetividade)\n",
    "dados_sentimento['Polaridade'] = dados_sentimento['Relato'].apply(polaridade)"
   ]
  },
  {
   "cell_type": "code",
   "execution_count": 42,
   "metadata": {},
   "outputs": [
    {
     "data": {
      "text/html": [
       "<div>\n",
       "<style scoped>\n",
       "    .dataframe tbody tr th:only-of-type {\n",
       "        vertical-align: middle;\n",
       "    }\n",
       "\n",
       "    .dataframe tbody tr th {\n",
       "        vertical-align: top;\n",
       "    }\n",
       "\n",
       "    .dataframe thead th {\n",
       "        text-align: right;\n",
       "    }\n",
       "</style>\n",
       "<table border=\"1\" class=\"dataframe\">\n",
       "  <thead>\n",
       "    <tr style=\"text-align: right;\">\n",
       "      <th></th>\n",
       "      <th>Empresa</th>\n",
       "      <th>Relato</th>\n",
       "      <th>Avaliacao</th>\n",
       "    </tr>\n",
       "  </thead>\n",
       "  <tbody>\n",
       "    <tr>\n",
       "      <th>0</th>\n",
       "      <td>Caixa Econômica Federal</td>\n",
       "      <td>não consigo crédito pra fazer um empréstimo me...</td>\n",
       "      <td>3</td>\n",
       "    </tr>\n",
       "    <tr>\n",
       "      <th>1</th>\n",
       "      <td>Nubank</td>\n",
       "      <td>ja houve o pagamento da negociacao</td>\n",
       "      <td>2</td>\n",
       "    </tr>\n",
       "    <tr>\n",
       "      <th>2</th>\n",
       "      <td>Nubank</td>\n",
       "      <td>exclusao do nome retirar negativacao do nome s...</td>\n",
       "      <td>1</td>\n",
       "    </tr>\n",
       "    <tr>\n",
       "      <th>3</th>\n",
       "      <td>C6 Bank</td>\n",
       "      <td>sou cliente do c6 bank há tempos sempre manten...</td>\n",
       "      <td>1</td>\n",
       "    </tr>\n",
       "    <tr>\n",
       "      <th>4</th>\n",
       "      <td>Nubank</td>\n",
       "      <td>gostaria de reclamar sobre essa dívida quer es...</td>\n",
       "      <td>5</td>\n",
       "    </tr>\n",
       "    <tr>\n",
       "      <th>5</th>\n",
       "      <td>Banco Itaú Unibanco</td>\n",
       "      <td>o itaú financiamentos fez constar na scr uma l...</td>\n",
       "      <td>1</td>\n",
       "    </tr>\n",
       "    <tr>\n",
       "      <th>6</th>\n",
       "      <td>Nubank</td>\n",
       "      <td>eu fiz um acordo para pagamento da minha dívid...</td>\n",
       "      <td>3</td>\n",
       "    </tr>\n",
       "    <tr>\n",
       "      <th>7</th>\n",
       "      <td>Banco Itaú Unibanco</td>\n",
       "      <td>primeiramente quero agradecer o banco itau poi...</td>\n",
       "      <td>5</td>\n",
       "    </tr>\n",
       "    <tr>\n",
       "      <th>8</th>\n",
       "      <td>Nubank</td>\n",
       "      <td>reclamação nubank gostaria de registrar minha ...</td>\n",
       "      <td>1</td>\n",
       "    </tr>\n",
       "    <tr>\n",
       "      <th>9</th>\n",
       "      <td>Caixa Econômica Federal</td>\n",
       "      <td>desejo participar do mutirão de renegociação.</td>\n",
       "      <td>1</td>\n",
       "    </tr>\n",
       "  </tbody>\n",
       "</table>\n",
       "</div>"
      ],
      "text/plain": [
       "                   Empresa                                             Relato  \\\n",
       "0  Caixa Econômica Federal  não consigo crédito pra fazer um empréstimo me...   \n",
       "1                   Nubank                 ja houve o pagamento da negociacao   \n",
       "2                   Nubank  exclusao do nome retirar negativacao do nome s...   \n",
       "3                  C6 Bank  sou cliente do c6 bank há tempos sempre manten...   \n",
       "4                   Nubank  gostaria de reclamar sobre essa dívida quer es...   \n",
       "5      Banco Itaú Unibanco  o itaú financiamentos fez constar na scr uma l...   \n",
       "6                   Nubank  eu fiz um acordo para pagamento da minha dívid...   \n",
       "7      Banco Itaú Unibanco  primeiramente quero agradecer o banco itau poi...   \n",
       "8                   Nubank  reclamação nubank gostaria de registrar minha ...   \n",
       "9  Caixa Econômica Federal      desejo participar do mutirão de renegociação.   \n",
       "\n",
       "   Avaliacao  \n",
       "0          3  \n",
       "1          2  \n",
       "2          1  \n",
       "3          1  \n",
       "4          5  \n",
       "5          1  \n",
       "6          3  \n",
       "7          5  \n",
       "8          1  \n",
       "9          1  "
      ]
     },
     "execution_count": 42,
     "metadata": {},
     "output_type": "execute_result"
    }
   ],
   "source": [
    "dados_sentimento.head(10)"
   ]
  },
  {
   "cell_type": "code",
   "execution_count": null,
   "metadata": {},
   "outputs": [
    {
     "name": "stderr",
     "output_type": "stream",
     "text": [
      "Some weights of BertForSequenceClassification were not initialized from the model checkpoint at neuralmind/bert-base-portuguese-cased and are newly initialized: ['classifier.bias', 'classifier.weight']\n",
      "You should probably TRAIN this model on a down-stream task to be able to use it for predictions and inference.\n"
     ]
    }
   ],
   "source": [
    "from transformers import AutoTokenizer, AutoModelForSequenceClassification\n",
    "\n",
    "# Carregar o modelo pré-treinado para análise de sentimento\n",
    "tokenizer = AutoTokenizer.from_pretrained(\"neuralmind/bert-base-portuguese-cased\")\n",
    "model = AutoModelForSequenceClassification.from_pretrained(\"neuralmind/bert-base-portuguese-cased\")\n",
    "\n",
    "# Função para prever a polaridade e intensidade com RoBERTa-BR\n",
    "def get_sentiment(text):\n",
    "    inputs = tokenizer(text, return_tensors=\"pt\", truncation=True, padding=True, max_length=512)\n",
    "    outputs = model(**inputs)\n",
    "    scores = outputs.logits.softmax(dim=1).detach().numpy()\n",
    "    \n",
    "    # Exemplos de interpretação (ajustar conforme os rótulos do modelo que está usando)\n",
    "    sentiment = \"positivo\" if scores[0][1] > scores[0][0] else \"negativo\"\n",
    "    intensity = scores[0][1]  # Considerando que pontuações mais altas indicam mais intensidade\n",
    "    \n",
    "    return sentiment, intensity\n",
    "\n",
    "# Aplicar o modelo para obter polaridade e intensidade\n",
    "dados_sentimento['Polaridade'], dados_sentimento['Intensidade'] = zip(*dados_sentimento['Relato'].apply(get_sentiment))\n",
    "\n",
    "# Exibir o resultado\n",
    "print(dados_sentimento)"
   ]
  },
  {
   "cell_type": "code",
   "execution_count": null,
   "metadata": {},
   "outputs": [],
   "source": []
  }
 ],
 "metadata": {
  "kernelspec": {
   "display_name": "base",
   "language": "python",
   "name": "python3"
  },
  "language_info": {
   "codemirror_mode": {
    "name": "ipython",
    "version": 3
   },
   "file_extension": ".py",
   "mimetype": "text/x-python",
   "name": "python",
   "nbconvert_exporter": "python",
   "pygments_lexer": "ipython3",
   "version": "3.9.13"
  }
 },
 "nbformat": 4,
 "nbformat_minor": 2
}
