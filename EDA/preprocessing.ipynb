{
 "cells": [
  {
   "cell_type": "markdown",
   "metadata": {},
   "source": [
    "# <font color = 'red'> Pré Processamento e Engenharia de Atributos</font>\n",
    "\n",
    "### <font color = 'red'> Foco: </font>\n",
    "\n",
    "- Pré processar o texto para a etapa de análise de sentimentos\n",
    "\n",
    "- Remoção de stopwords e outros, para verificar ocorrência"
   ]
  },
  {
   "cell_type": "code",
   "execution_count": null,
   "metadata": {},
   "outputs": [],
   "source": [
    "# Imports\n",
    "import os\n",
    "import re\n",
    "import numpy as np\n",
    "import pandas as pd\n",
    "\n",
    "from nltk.corpus import stopwords\n",
    "from nltk.tokenize import WordPunctTokenizer\n",
    "from nltk.tokenize import word_tokenize\n",
    "\n",
    "import spacy\n",
    "\n",
    "\n",
    "\n",
    "import warnings\n",
    "warnings.filterwarnings('ignore')\n"
   ]
  },
  {
   "cell_type": "code",
   "execution_count": 65,
   "metadata": {},
   "outputs": [],
   "source": [
    "# Visualizando Cj dados\n",
    "dados = pd.read_csv('/Projetos Pessoais/DataScience/PLN_Text_Analysis/data/data_scraping_bruto.csv',\n",
    "                       sep =',')"
   ]
  },
  {
   "cell_type": "code",
   "execution_count": 66,
   "metadata": {},
   "outputs": [
    {
     "data": {
      "text/html": [
       "<div>\n",
       "<style scoped>\n",
       "    .dataframe tbody tr th:only-of-type {\n",
       "        vertical-align: middle;\n",
       "    }\n",
       "\n",
       "    .dataframe tbody tr th {\n",
       "        vertical-align: top;\n",
       "    }\n",
       "\n",
       "    .dataframe thead th {\n",
       "        text-align: right;\n",
       "    }\n",
       "</style>\n",
       "<table border=\"1\" class=\"dataframe\">\n",
       "  <thead>\n",
       "    <tr style=\"text-align: right;\">\n",
       "      <th></th>\n",
       "      <th>Empresa</th>\n",
       "      <th>Relato</th>\n",
       "      <th>Avaliacao</th>\n",
       "    </tr>\n",
       "  </thead>\n",
       "  <tbody>\n",
       "    <tr>\n",
       "      <th>0</th>\n",
       "      <td>Serasa Experian</td>\n",
       "      <td>C. A legislação consumerista (à luz da qual de...</td>\n",
       "      <td>Nota 5</td>\n",
       "    </tr>\n",
       "    <tr>\n",
       "      <th>1</th>\n",
       "      <td>Serasa Experian</td>\n",
       "      <td>Solicito a baixa dos meus dados junto ao SERAS...</td>\n",
       "      <td>Nota 1</td>\n",
       "    </tr>\n",
       "    <tr>\n",
       "      <th>2</th>\n",
       "      <td>Serasa Experian</td>\n",
       "      <td>Eu solicito a limpeza em seus cadastros</td>\n",
       "      <td>Nota 5</td>\n",
       "    </tr>\n",
       "    <tr>\n",
       "      <th>3</th>\n",
       "      <td>Latam Airlines (Tam)</td>\n",
       "      <td>Prezados, apesar de ser cliente da categoria g...</td>\n",
       "      <td>Nota 5</td>\n",
       "    </tr>\n",
       "    <tr>\n",
       "      <th>4</th>\n",
       "      <td>Serasa Experian</td>\n",
       "      <td>Em 04/11/2024 verifiquei o extrato da conta co...</td>\n",
       "      <td>Nota 1</td>\n",
       "    </tr>\n",
       "  </tbody>\n",
       "</table>\n",
       "</div>"
      ],
      "text/plain": [
       "                Empresa                                             Relato  \\\n",
       "0       Serasa Experian  C. A legislação consumerista (à luz da qual de...   \n",
       "1       Serasa Experian  Solicito a baixa dos meus dados junto ao SERAS...   \n",
       "2       Serasa Experian            Eu solicito a limpeza em seus cadastros   \n",
       "3  Latam Airlines (Tam)  Prezados, apesar de ser cliente da categoria g...   \n",
       "4       Serasa Experian  Em 04/11/2024 verifiquei o extrato da conta co...   \n",
       "\n",
       "  Avaliacao  \n",
       "0    Nota 5  \n",
       "1    Nota 1  \n",
       "2    Nota 5  \n",
       "3    Nota 5  \n",
       "4    Nota 1  "
      ]
     },
     "execution_count": 66,
     "metadata": {},
     "output_type": "execute_result"
    }
   ],
   "source": [
    "dados.head()"
   ]
  },
  {
   "cell_type": "code",
   "execution_count": 67,
   "metadata": {},
   "outputs": [],
   "source": [
    "instituicoes_financeiras = ['Nubank',\n",
    "              'Banco do Brasil',\n",
    "              'Caixa Econômica Federal',\n",
    "              'Banco Santander',\n",
    "              'Banco Itaú Unibanco',\n",
    "              'Mercado Pago',\n",
    "              'Banco Inter (Banco Intermedium)',\n",
    "              'Banco Bradesco',\n",
    "              'C6 Bank']"
   ]
  },
  {
   "cell_type": "code",
   "execution_count": 68,
   "metadata": {},
   "outputs": [],
   "source": [
    "# Selecionando apenas instituições financeiras\n",
    "\n",
    "dados_financeiros = dados[dados['Empresa'].isin(instituicoes_financeiras)]"
   ]
  },
  {
   "cell_type": "code",
   "execution_count": 69,
   "metadata": {},
   "outputs": [
    {
     "data": {
      "text/html": [
       "<div>\n",
       "<style scoped>\n",
       "    .dataframe tbody tr th:only-of-type {\n",
       "        vertical-align: middle;\n",
       "    }\n",
       "\n",
       "    .dataframe tbody tr th {\n",
       "        vertical-align: top;\n",
       "    }\n",
       "\n",
       "    .dataframe thead th {\n",
       "        text-align: right;\n",
       "    }\n",
       "</style>\n",
       "<table border=\"1\" class=\"dataframe\">\n",
       "  <thead>\n",
       "    <tr style=\"text-align: right;\">\n",
       "      <th></th>\n",
       "      <th>Empresa</th>\n",
       "      <th>Quantidade Relatos</th>\n",
       "    </tr>\n",
       "  </thead>\n",
       "  <tbody>\n",
       "    <tr>\n",
       "      <th>0</th>\n",
       "      <td>Nubank</td>\n",
       "      <td>484</td>\n",
       "    </tr>\n",
       "    <tr>\n",
       "      <th>1</th>\n",
       "      <td>Banco do Brasil</td>\n",
       "      <td>365</td>\n",
       "    </tr>\n",
       "    <tr>\n",
       "      <th>2</th>\n",
       "      <td>Caixa Econômica Federal</td>\n",
       "      <td>242</td>\n",
       "    </tr>\n",
       "    <tr>\n",
       "      <th>3</th>\n",
       "      <td>Banco Santander</td>\n",
       "      <td>212</td>\n",
       "    </tr>\n",
       "    <tr>\n",
       "      <th>4</th>\n",
       "      <td>Banco Itaú Unibanco</td>\n",
       "      <td>142</td>\n",
       "    </tr>\n",
       "    <tr>\n",
       "      <th>5</th>\n",
       "      <td>Mercado Pago</td>\n",
       "      <td>139</td>\n",
       "    </tr>\n",
       "    <tr>\n",
       "      <th>6</th>\n",
       "      <td>Banco Bradesco</td>\n",
       "      <td>137</td>\n",
       "    </tr>\n",
       "    <tr>\n",
       "      <th>7</th>\n",
       "      <td>Banco Inter (Banco Intermedium)</td>\n",
       "      <td>127</td>\n",
       "    </tr>\n",
       "    <tr>\n",
       "      <th>8</th>\n",
       "      <td>C6 Bank</td>\n",
       "      <td>72</td>\n",
       "    </tr>\n",
       "  </tbody>\n",
       "</table>\n",
       "</div>"
      ],
      "text/plain": [
       "                           Empresa  Quantidade Relatos\n",
       "0                           Nubank                 484\n",
       "1                  Banco do Brasil                 365\n",
       "2          Caixa Econômica Federal                 242\n",
       "3                  Banco Santander                 212\n",
       "4              Banco Itaú Unibanco                 142\n",
       "5                     Mercado Pago                 139\n",
       "6                   Banco Bradesco                 137\n",
       "7  Banco Inter (Banco Intermedium)                 127\n",
       "8                          C6 Bank                  72"
      ]
     },
     "execution_count": 69,
     "metadata": {},
     "output_type": "execute_result"
    }
   ],
   "source": [
    "#Verificando ocorrências\n",
    "\n",
    "dados_financeiros.Empresa.value_counts().reset_index(name='Quantidade Relatos')"
   ]
  },
  {
   "cell_type": "code",
   "execution_count": 70,
   "metadata": {},
   "outputs": [
    {
     "data": {
      "text/html": [
       "<div>\n",
       "<style scoped>\n",
       "    .dataframe tbody tr th:only-of-type {\n",
       "        vertical-align: middle;\n",
       "    }\n",
       "\n",
       "    .dataframe tbody tr th {\n",
       "        vertical-align: top;\n",
       "    }\n",
       "\n",
       "    .dataframe thead th {\n",
       "        text-align: right;\n",
       "    }\n",
       "</style>\n",
       "<table border=\"1\" class=\"dataframe\">\n",
       "  <thead>\n",
       "    <tr style=\"text-align: right;\">\n",
       "      <th></th>\n",
       "      <th>Empresa</th>\n",
       "      <th>Relato</th>\n",
       "      <th>Avaliacao</th>\n",
       "    </tr>\n",
       "  </thead>\n",
       "  <tbody>\n",
       "    <tr>\n",
       "      <th>23</th>\n",
       "      <td>Caixa Econômica Federal</td>\n",
       "      <td>Não consigo crédito pra fazer um empréstimo me...</td>\n",
       "      <td>Nota 3</td>\n",
       "    </tr>\n",
       "    <tr>\n",
       "      <th>41</th>\n",
       "      <td>Nubank</td>\n",
       "      <td>ja houve o pagamento da negociacao</td>\n",
       "      <td>Nota 2</td>\n",
       "    </tr>\n",
       "    <tr>\n",
       "      <th>45</th>\n",
       "      <td>Nubank</td>\n",
       "      <td>Exclusao do nome Retirar negativacao do nome s...</td>\n",
       "      <td>Nota 1</td>\n",
       "    </tr>\n",
       "    <tr>\n",
       "      <th>49</th>\n",
       "      <td>C6 Bank</td>\n",
       "      <td>Sou cliente do C6 Bank há tempos, sempre mante...</td>\n",
       "      <td>Nota 1</td>\n",
       "    </tr>\n",
       "    <tr>\n",
       "      <th>52</th>\n",
       "      <td>Nubank</td>\n",
       "      <td>Gostaria de reclamar sobre essa dívida quer Es...</td>\n",
       "      <td>Nota 5</td>\n",
       "    </tr>\n",
       "  </tbody>\n",
       "</table>\n",
       "</div>"
      ],
      "text/plain": [
       "                    Empresa  \\\n",
       "23  Caixa Econômica Federal   \n",
       "41                   Nubank   \n",
       "45                   Nubank   \n",
       "49                  C6 Bank   \n",
       "52                   Nubank   \n",
       "\n",
       "                                               Relato Avaliacao  \n",
       "23  Não consigo crédito pra fazer um empréstimo me...    Nota 3  \n",
       "41                 ja houve o pagamento da negociacao    Nota 2  \n",
       "45  Exclusao do nome Retirar negativacao do nome s...    Nota 1  \n",
       "49  Sou cliente do C6 Bank há tempos, sempre mante...    Nota 1  \n",
       "52  Gostaria de reclamar sobre essa dívida quer Es...    Nota 5  "
      ]
     },
     "execution_count": 70,
     "metadata": {},
     "output_type": "execute_result"
    }
   ],
   "source": [
    "dados_financeiros.head(5)"
   ]
  },
  {
   "cell_type": "code",
   "execution_count": 71,
   "metadata": {},
   "outputs": [],
   "source": [
    "dados_financeiros['Avaliacao'] = dados_financeiros['Avaliacao'].str.extract(r'(\\d+)')"
   ]
  },
  {
   "cell_type": "code",
   "execution_count": 72,
   "metadata": {},
   "outputs": [
    {
     "name": "stdout",
     "output_type": "stream",
     "text": [
      "<class 'pandas.core.frame.DataFrame'>\n",
      "Index: 1920 entries, 23 to 10929\n",
      "Data columns (total 3 columns):\n",
      " #   Column     Non-Null Count  Dtype \n",
      "---  ------     --------------  ----- \n",
      " 0   Empresa    1920 non-null   object\n",
      " 1   Relato     1920 non-null   object\n",
      " 2   Avaliacao  1920 non-null   object\n",
      "dtypes: object(3)\n",
      "memory usage: 60.0+ KB\n"
     ]
    }
   ],
   "source": [
    "dados_financeiros.info()"
   ]
  },
  {
   "cell_type": "markdown",
   "metadata": {},
   "source": [
    "### <font color='green'> Remoção de pontuações e deixando o texto em caixa baixa"
   ]
  },
  {
   "cell_type": "code",
   "execution_count": 73,
   "metadata": {},
   "outputs": [],
   "source": [
    "def processa_sentimento(text):\n",
    " # Minuscula\n",
    " text = text.lower()\n",
    "\n",
    " # retirando pontuações, exceto \".\"\n",
    " text = re.sub(r'[^\\w\\s.]', '', text)\n",
    "\n",
    " return text"
   ]
  },
  {
   "cell_type": "code",
   "execution_count": 74,
   "metadata": {},
   "outputs": [],
   "source": [
    "dados_financeiros['Relato'] = dados_financeiros['Relato'].apply(processa_sentimento)"
   ]
  },
  {
   "cell_type": "code",
   "execution_count": 75,
   "metadata": {},
   "outputs": [
    {
     "data": {
      "text/html": [
       "<div>\n",
       "<style scoped>\n",
       "    .dataframe tbody tr th:only-of-type {\n",
       "        vertical-align: middle;\n",
       "    }\n",
       "\n",
       "    .dataframe tbody tr th {\n",
       "        vertical-align: top;\n",
       "    }\n",
       "\n",
       "    .dataframe thead th {\n",
       "        text-align: right;\n",
       "    }\n",
       "</style>\n",
       "<table border=\"1\" class=\"dataframe\">\n",
       "  <thead>\n",
       "    <tr style=\"text-align: right;\">\n",
       "      <th></th>\n",
       "      <th>Empresa</th>\n",
       "      <th>Relato</th>\n",
       "      <th>Avaliacao</th>\n",
       "    </tr>\n",
       "  </thead>\n",
       "  <tbody>\n",
       "    <tr>\n",
       "      <th>4344</th>\n",
       "      <td>Caixa Econômica Federal</td>\n",
       "      <td>peço o cancelamento desse serviço por não muit...</td>\n",
       "      <td>5</td>\n",
       "    </tr>\n",
       "    <tr>\n",
       "      <th>4977</th>\n",
       "      <td>Banco Inter (Banco Intermedium)</td>\n",
       "      <td>protocolo anterior nenhuma das reclamações for...</td>\n",
       "      <td>1</td>\n",
       "    </tr>\n",
       "    <tr>\n",
       "      <th>494</th>\n",
       "      <td>Nubank</td>\n",
       "      <td>estou com o nome limpo e não consigo fazer car...</td>\n",
       "      <td>1</td>\n",
       "    </tr>\n",
       "    <tr>\n",
       "      <th>2006</th>\n",
       "      <td>Caixa Econômica Federal</td>\n",
       "      <td>meu contrato do empréstimo consignado da caixa...</td>\n",
       "      <td>5</td>\n",
       "    </tr>\n",
       "    <tr>\n",
       "      <th>9005</th>\n",
       "      <td>Mercado Pago</td>\n",
       "      <td>efetuado consulta no registrato do banco centr...</td>\n",
       "      <td>5</td>\n",
       "    </tr>\n",
       "  </tbody>\n",
       "</table>\n",
       "</div>"
      ],
      "text/plain": [
       "                              Empresa  \\\n",
       "4344          Caixa Econômica Federal   \n",
       "4977  Banco Inter (Banco Intermedium)   \n",
       "494                            Nubank   \n",
       "2006          Caixa Econômica Federal   \n",
       "9005                     Mercado Pago   \n",
       "\n",
       "                                                 Relato Avaliacao  \n",
       "4344  peço o cancelamento desse serviço por não muit...         5  \n",
       "4977  protocolo anterior nenhuma das reclamações for...         1  \n",
       "494   estou com o nome limpo e não consigo fazer car...         1  \n",
       "2006  meu contrato do empréstimo consignado da caixa...         5  \n",
       "9005  efetuado consulta no registrato do banco centr...         5  "
      ]
     },
     "execution_count": 75,
     "metadata": {},
     "output_type": "execute_result"
    }
   ],
   "source": [
    "dados_financeiros.sample(5)"
   ]
  },
  {
   "cell_type": "code",
   "execution_count": 76,
   "metadata": {},
   "outputs": [],
   "source": [
    "dados_financeiros.to_csv('/Projetos Pessoais/DataScience/PLN_Text_Analysis/data/dados_financeiros_sentimentos.csv',\n",
    "                       sep =',', index = False, encoding = 'utf-8')\n"
   ]
  },
  {
   "cell_type": "markdown",
   "metadata": {},
   "source": [
    "### <font color='green'> Pré processamento para frequência - TF IDF e Collocations"
   ]
  },
  {
   "cell_type": "markdown",
   "metadata": {},
   "source": [
    "- Tokennizando os textos"
   ]
  },
  {
   "cell_type": "code",
   "execution_count": 77,
   "metadata": {},
   "outputs": [
    {
     "data": {
      "text/plain": [
       "['Data', 'Science', 'Academy', '2024']"
      ]
     },
     "execution_count": 77,
     "metadata": {},
     "output_type": "execute_result"
    }
   ],
   "source": [
    "word_tokenize(\"Data Science Academy 2024\")"
   ]
  },
  {
   "cell_type": "code",
   "execution_count": 79,
   "metadata": {},
   "outputs": [],
   "source": [
    "# Carregar modelo em português\n",
    "lematizacao = spacy.load(\"pt_core_news_sm\") \n",
    "\n",
    "# Aplicar lematização em cada relato\n",
    "dados_financeiros['Relato_Lematizado'] = dados_financeiros['Relato'].apply(lambda tokens: [token.lemma_ for token in lematizacao(\" \".join(tokens))])"
   ]
  },
  {
   "cell_type": "code",
   "execution_count": 81,
   "metadata": {},
   "outputs": [
    {
     "name": "stdout",
     "output_type": "stream",
     "text": [
      "                       Empresa  \\\n",
      "23     Caixa Econômica Federal   \n",
      "41                      Nubank   \n",
      "45                      Nubank   \n",
      "49                     C6 Bank   \n",
      "52                      Nubank   \n",
      "...                        ...   \n",
      "10910      Banco Itaú Unibanco   \n",
      "10912      Banco Itaú Unibanco   \n",
      "10923                  C6 Bank   \n",
      "10924           Banco Bradesco   \n",
      "10929  Caixa Econômica Federal   \n",
      "\n",
      "                                                  Relato Avaliacao  \\\n",
      "23     não consigo crédito pra fazer um empréstimo me...         3   \n",
      "41                    ja houve o pagamento da negociacao         2   \n",
      "45     exclusao do nome retirar negativacao do nome s...         1   \n",
      "49     sou cliente do c6 bank há tempos sempre manten...         1   \n",
      "52     gostaria de reclamar sobre essa dívida quer es...         5   \n",
      "...                                                  ...       ...   \n",
      "10910  solicitando a retirada da restrição de apontam...         4   \n",
      "10912  estou com dificuldade para redefinir a senha d...         1   \n",
      "10923  gostaria que tirassem o apontamento no registr...         5   \n",
      "10924  sou cliente do banco bradesco e possuo um cheq...         1   \n",
      "10929  prezados acabei de ligar para a minha agência ...         5   \n",
      "\n",
      "                                       Relato_Lematizado  \n",
      "23     não consigir crédito pra fazer um empréstimo m...  \n",
      "41                  ja haver o pagamento de o negociacao  \n",
      "45     exclusao de o nome retirar negativacao de o no...  \n",
      "49     ser cliente de o c6 bank haver tempo sempre ma...  \n",
      "52     gostar de reclamar sobre esse dívida querer es...  \n",
      "...                                                  ...  \n",
      "10910  solicitar o retirada de o restrição de apontam...  \n",
      "10912  estar com dificuldade para redefinir o senha d...  \n",
      "10923  gostar que tirar o apontamento em o registrato...  \n",
      "10924  ser cliente de o banco bradesco e possuor um c...  \n",
      "10929  prezar acabar de ligar para o meu agência 1564...  \n",
      "\n",
      "[1920 rows x 4 columns]\n"
     ]
    }
   ],
   "source": [
    "nlp = spacy.load(\"pt_core_news_sm\")\n",
    "\n",
    "# Função para lematizar uma frase completa\n",
    "def lematizar_frase(frase):\n",
    "    doc = nlp(frase)\n",
    "    return \" \".join([token.lemma_ for token in doc])\n",
    "\n",
    "dados_financeiros['Relato_Lematizado'] = dados_financeiros['Relato'].apply(lematizar_frase)\n",
    "\n",
    "# Exibir o DataFrame resultante\n",
    "print(dados_financeiros[['Empresa', 'Relato', 'Avaliacao', 'Relato_Lematizado']])\n"
   ]
  },
  {
   "cell_type": "code",
   "execution_count": 99,
   "metadata": {},
   "outputs": [],
   "source": [
    "dados_sem_sw = dados_financeiros.copy()"
   ]
  },
  {
   "cell_type": "code",
   "execution_count": 100,
   "metadata": {},
   "outputs": [
    {
     "data": {
      "text/plain": [
       "195"
      ]
     },
     "execution_count": 100,
     "metadata": {},
     "output_type": "execute_result"
    }
   ],
   "source": [
    "len(dados_financeiros['Relato'].iloc[0])"
   ]
  },
  {
   "cell_type": "code",
   "execution_count": 101,
   "metadata": {},
   "outputs": [
    {
     "data": {
      "text/plain": [
       "199"
      ]
     },
     "execution_count": 101,
     "metadata": {},
     "output_type": "execute_result"
    }
   ],
   "source": [
    "len(dados_financeiros['Relato_Lematizado'].iloc[0])"
   ]
  },
  {
   "cell_type": "code",
   "execution_count": 102,
   "metadata": {},
   "outputs": [
    {
     "data": {
      "text/html": [
       "<div>\n",
       "<style scoped>\n",
       "    .dataframe tbody tr th:only-of-type {\n",
       "        vertical-align: middle;\n",
       "    }\n",
       "\n",
       "    .dataframe tbody tr th {\n",
       "        vertical-align: top;\n",
       "    }\n",
       "\n",
       "    .dataframe thead th {\n",
       "        text-align: right;\n",
       "    }\n",
       "</style>\n",
       "<table border=\"1\" class=\"dataframe\">\n",
       "  <thead>\n",
       "    <tr style=\"text-align: right;\">\n",
       "      <th></th>\n",
       "      <th>Empresa</th>\n",
       "      <th>Relato</th>\n",
       "      <th>Avaliacao</th>\n",
       "      <th>Relato_Lematizado</th>\n",
       "    </tr>\n",
       "  </thead>\n",
       "  <tbody>\n",
       "    <tr>\n",
       "      <th>23</th>\n",
       "      <td>Caixa Econômica Federal</td>\n",
       "      <td>não consigo crédito pra fazer um empréstimo me...</td>\n",
       "      <td>3</td>\n",
       "      <td>não consigir crédito pra fazer um empréstimo m...</td>\n",
       "    </tr>\n",
       "    <tr>\n",
       "      <th>41</th>\n",
       "      <td>Nubank</td>\n",
       "      <td>ja houve o pagamento da negociacao</td>\n",
       "      <td>2</td>\n",
       "      <td>ja haver o pagamento de o negociacao</td>\n",
       "    </tr>\n",
       "    <tr>\n",
       "      <th>45</th>\n",
       "      <td>Nubank</td>\n",
       "      <td>exclusao do nome retirar negativacao do nome s...</td>\n",
       "      <td>1</td>\n",
       "      <td>exclusao de o nome retirar negativacao de o no...</td>\n",
       "    </tr>\n",
       "    <tr>\n",
       "      <th>49</th>\n",
       "      <td>C6 Bank</td>\n",
       "      <td>sou cliente do c6 bank há tempos sempre manten...</td>\n",
       "      <td>1</td>\n",
       "      <td>ser cliente de o c6 bank haver tempo sempre ma...</td>\n",
       "    </tr>\n",
       "    <tr>\n",
       "      <th>52</th>\n",
       "      <td>Nubank</td>\n",
       "      <td>gostaria de reclamar sobre essa dívida quer es...</td>\n",
       "      <td>5</td>\n",
       "      <td>gostar de reclamar sobre esse dívida querer es...</td>\n",
       "    </tr>\n",
       "  </tbody>\n",
       "</table>\n",
       "</div>"
      ],
      "text/plain": [
       "                    Empresa  \\\n",
       "23  Caixa Econômica Federal   \n",
       "41                   Nubank   \n",
       "45                   Nubank   \n",
       "49                  C6 Bank   \n",
       "52                   Nubank   \n",
       "\n",
       "                                               Relato Avaliacao  \\\n",
       "23  não consigo crédito pra fazer um empréstimo me...         3   \n",
       "41                 ja houve o pagamento da negociacao         2   \n",
       "45  exclusao do nome retirar negativacao do nome s...         1   \n",
       "49  sou cliente do c6 bank há tempos sempre manten...         1   \n",
       "52  gostaria de reclamar sobre essa dívida quer es...         5   \n",
       "\n",
       "                                    Relato_Lematizado  \n",
       "23  não consigir crédito pra fazer um empréstimo m...  \n",
       "41               ja haver o pagamento de o negociacao  \n",
       "45  exclusao de o nome retirar negativacao de o no...  \n",
       "49  ser cliente de o c6 bank haver tempo sempre ma...  \n",
       "52  gostar de reclamar sobre esse dívida querer es...  "
      ]
     },
     "execution_count": 102,
     "metadata": {},
     "output_type": "execute_result"
    }
   ],
   "source": [
    "dados_financeiros.head()"
   ]
  },
  {
   "cell_type": "markdown",
   "metadata": {},
   "source": [
    "- Tratamento de StopWords"
   ]
  },
  {
   "cell_type": "code",
   "execution_count": null,
   "metadata": {},
   "outputs": [],
   "source": [
    "from nltk.tokenize import word_tokenize\n",
    "\n",
    "\n",
    "def tokenizando(texto):\n",
    " array_tokenizado = word_tokenize(texto)\n",
    " return array_tokenizado"
   ]
  },
  {
   "cell_type": "code",
   "execution_count": 114,
   "metadata": {},
   "outputs": [],
   "source": [
    "dados_sem_sw['Relato_Lematizao_SW'] = dados_sem_sw['Relato_Lematizado'].map(lambda x: tokenizando(x))"
   ]
  },
  {
   "cell_type": "code",
   "execution_count": 115,
   "metadata": {},
   "outputs": [],
   "source": [
    "# Stopwords em portugues\n",
    "stopwords_PT = set(stopwords.words(\"portuguese\"))"
   ]
  },
  {
   "cell_type": "code",
   "execution_count": 116,
   "metadata": {},
   "outputs": [],
   "source": [
    "# Função para verificar se está com Stopwords no relato dos clientes - Utilizando list comprehension\n",
    "\n",
    "def veriricaStopWord(texto):\n",
    " texto_filtrado = [palavra for palavra in texto if palavra not in stopwords_PT]\n",
    " return texto_filtrado"
   ]
  },
  {
   "cell_type": "code",
   "execution_count": 117,
   "metadata": {},
   "outputs": [
    {
     "data": {
      "text/html": [
       "<div>\n",
       "<style scoped>\n",
       "    .dataframe tbody tr th:only-of-type {\n",
       "        vertical-align: middle;\n",
       "    }\n",
       "\n",
       "    .dataframe tbody tr th {\n",
       "        vertical-align: top;\n",
       "    }\n",
       "\n",
       "    .dataframe thead th {\n",
       "        text-align: right;\n",
       "    }\n",
       "</style>\n",
       "<table border=\"1\" class=\"dataframe\">\n",
       "  <thead>\n",
       "    <tr style=\"text-align: right;\">\n",
       "      <th></th>\n",
       "      <th>Empresa</th>\n",
       "      <th>Relato</th>\n",
       "      <th>Avaliacao</th>\n",
       "      <th>Relato_Lematizado</th>\n",
       "      <th>Relato_Lematizao_SW</th>\n",
       "    </tr>\n",
       "  </thead>\n",
       "  <tbody>\n",
       "    <tr>\n",
       "      <th>23</th>\n",
       "      <td>Caixa Econômica Federal</td>\n",
       "      <td>não consigo crédito pra fazer um empréstimo me...</td>\n",
       "      <td>3</td>\n",
       "      <td>não consigir crédito pra fazer um empréstimo m...</td>\n",
       "      <td>[não, consigir, crédito, pra, fazer, um, empré...</td>\n",
       "    </tr>\n",
       "    <tr>\n",
       "      <th>41</th>\n",
       "      <td>Nubank</td>\n",
       "      <td>ja houve o pagamento da negociacao</td>\n",
       "      <td>2</td>\n",
       "      <td>ja haver o pagamento de o negociacao</td>\n",
       "      <td>[ja, haver, o, pagamento, de, o, negociacao]</td>\n",
       "    </tr>\n",
       "    <tr>\n",
       "      <th>45</th>\n",
       "      <td>Nubank</td>\n",
       "      <td>exclusao do nome retirar negativacao do nome s...</td>\n",
       "      <td>1</td>\n",
       "      <td>exclusao de o nome retirar negativacao de o no...</td>\n",
       "      <td>[exclusao, de, o, nome, retirar, negativacao, ...</td>\n",
       "    </tr>\n",
       "    <tr>\n",
       "      <th>49</th>\n",
       "      <td>C6 Bank</td>\n",
       "      <td>sou cliente do c6 bank há tempos sempre manten...</td>\n",
       "      <td>1</td>\n",
       "      <td>ser cliente de o c6 bank haver tempo sempre ma...</td>\n",
       "      <td>[ser, cliente, de, o, c6, bank, haver, tempo, ...</td>\n",
       "    </tr>\n",
       "    <tr>\n",
       "      <th>52</th>\n",
       "      <td>Nubank</td>\n",
       "      <td>gostaria de reclamar sobre essa dívida quer es...</td>\n",
       "      <td>5</td>\n",
       "      <td>gostar de reclamar sobre esse dívida querer es...</td>\n",
       "      <td>[gostar, de, reclamar, sobre, esse, dívida, qu...</td>\n",
       "    </tr>\n",
       "    <tr>\n",
       "      <th>...</th>\n",
       "      <td>...</td>\n",
       "      <td>...</td>\n",
       "      <td>...</td>\n",
       "      <td>...</td>\n",
       "      <td>...</td>\n",
       "    </tr>\n",
       "    <tr>\n",
       "      <th>10910</th>\n",
       "      <td>Banco Itaú Unibanco</td>\n",
       "      <td>solicitando a retirada da restrição de apontam...</td>\n",
       "      <td>4</td>\n",
       "      <td>solicitar o retirada de o restrição de apontam...</td>\n",
       "      <td>[solicitar, o, retirada, de, o, restrição, de,...</td>\n",
       "    </tr>\n",
       "    <tr>\n",
       "      <th>10912</th>\n",
       "      <td>Banco Itaú Unibanco</td>\n",
       "      <td>estou com dificuldade para redefinir a senha d...</td>\n",
       "      <td>1</td>\n",
       "      <td>estar com dificuldade para redefinir o senha d...</td>\n",
       "      <td>[estar, com, dificuldade, para, redefinir, o, ...</td>\n",
       "    </tr>\n",
       "    <tr>\n",
       "      <th>10923</th>\n",
       "      <td>C6 Bank</td>\n",
       "      <td>gostaria que tirassem o apontamento no registr...</td>\n",
       "      <td>5</td>\n",
       "      <td>gostar que tirar o apontamento em o registrato...</td>\n",
       "      <td>[gostar, que, tirar, o, apontamento, em, o, re...</td>\n",
       "    </tr>\n",
       "    <tr>\n",
       "      <th>10924</th>\n",
       "      <td>Banco Bradesco</td>\n",
       "      <td>sou cliente do banco bradesco e possuo um cheq...</td>\n",
       "      <td>1</td>\n",
       "      <td>ser cliente de o banco bradesco e possuor um c...</td>\n",
       "      <td>[ser, cliente, de, o, banco, bradesco, e, poss...</td>\n",
       "    </tr>\n",
       "    <tr>\n",
       "      <th>10929</th>\n",
       "      <td>Caixa Econômica Federal</td>\n",
       "      <td>prezados acabei de ligar para a minha agência ...</td>\n",
       "      <td>5</td>\n",
       "      <td>prezar acabar de ligar para o meu agência 1564...</td>\n",
       "      <td>[prezar, acabar, de, ligar, para, o, meu, agên...</td>\n",
       "    </tr>\n",
       "  </tbody>\n",
       "</table>\n",
       "<p>1920 rows × 5 columns</p>\n",
       "</div>"
      ],
      "text/plain": [
       "                       Empresa  \\\n",
       "23     Caixa Econômica Federal   \n",
       "41                      Nubank   \n",
       "45                      Nubank   \n",
       "49                     C6 Bank   \n",
       "52                      Nubank   \n",
       "...                        ...   \n",
       "10910      Banco Itaú Unibanco   \n",
       "10912      Banco Itaú Unibanco   \n",
       "10923                  C6 Bank   \n",
       "10924           Banco Bradesco   \n",
       "10929  Caixa Econômica Federal   \n",
       "\n",
       "                                                  Relato Avaliacao  \\\n",
       "23     não consigo crédito pra fazer um empréstimo me...         3   \n",
       "41                    ja houve o pagamento da negociacao         2   \n",
       "45     exclusao do nome retirar negativacao do nome s...         1   \n",
       "49     sou cliente do c6 bank há tempos sempre manten...         1   \n",
       "52     gostaria de reclamar sobre essa dívida quer es...         5   \n",
       "...                                                  ...       ...   \n",
       "10910  solicitando a retirada da restrição de apontam...         4   \n",
       "10912  estou com dificuldade para redefinir a senha d...         1   \n",
       "10923  gostaria que tirassem o apontamento no registr...         5   \n",
       "10924  sou cliente do banco bradesco e possuo um cheq...         1   \n",
       "10929  prezados acabei de ligar para a minha agência ...         5   \n",
       "\n",
       "                                       Relato_Lematizado  \\\n",
       "23     não consigir crédito pra fazer um empréstimo m...   \n",
       "41                  ja haver o pagamento de o negociacao   \n",
       "45     exclusao de o nome retirar negativacao de o no...   \n",
       "49     ser cliente de o c6 bank haver tempo sempre ma...   \n",
       "52     gostar de reclamar sobre esse dívida querer es...   \n",
       "...                                                  ...   \n",
       "10910  solicitar o retirada de o restrição de apontam...   \n",
       "10912  estar com dificuldade para redefinir o senha d...   \n",
       "10923  gostar que tirar o apontamento em o registrato...   \n",
       "10924  ser cliente de o banco bradesco e possuor um c...   \n",
       "10929  prezar acabar de ligar para o meu agência 1564...   \n",
       "\n",
       "                                     Relato_Lematizao_SW  \n",
       "23     [não, consigir, crédito, pra, fazer, um, empré...  \n",
       "41          [ja, haver, o, pagamento, de, o, negociacao]  \n",
       "45     [exclusao, de, o, nome, retirar, negativacao, ...  \n",
       "49     [ser, cliente, de, o, c6, bank, haver, tempo, ...  \n",
       "52     [gostar, de, reclamar, sobre, esse, dívida, qu...  \n",
       "...                                                  ...  \n",
       "10910  [solicitar, o, retirada, de, o, restrição, de,...  \n",
       "10912  [estar, com, dificuldade, para, redefinir, o, ...  \n",
       "10923  [gostar, que, tirar, o, apontamento, em, o, re...  \n",
       "10924  [ser, cliente, de, o, banco, bradesco, e, poss...  \n",
       "10929  [prezar, acabar, de, ligar, para, o, meu, agên...  \n",
       "\n",
       "[1920 rows x 5 columns]"
      ]
     },
     "execution_count": 117,
     "metadata": {},
     "output_type": "execute_result"
    }
   ],
   "source": [
    "dados_sem_sw"
   ]
  },
  {
   "cell_type": "code",
   "execution_count": 149,
   "metadata": {},
   "outputs": [],
   "source": [
    "dados_sem_sw['Relato_Lematizao_SW'] = dados_sem_sw['Relato_Lematizao_SW'].map(lambda x: veriricaStopWord(x))"
   ]
  },
  {
   "cell_type": "code",
   "execution_count": 150,
   "metadata": {},
   "outputs": [],
   "source": [
    "dados_prontos = dados_sem_sw.copy()"
   ]
  },
  {
   "cell_type": "code",
   "execution_count": 151,
   "metadata": {},
   "outputs": [],
   "source": [
    "# Remove numeros\n",
    "def remove_numbers(tokens):\n",
    "    return [word for word in tokens if not re.search(r'\\d', word)]\n",
    "\n",
    "\n",
    "# Aplicando a função no seu DataFrame\n",
    "dados_prontos['Relato_Lematizao_SW'] = dados_prontos['Relato_Lematizao_SW'].apply(remove_numbers)"
   ]
  },
  {
   "cell_type": "code",
   "execution_count": 153,
   "metadata": {},
   "outputs": [
    {
     "data": {
      "text/html": [
       "<div>\n",
       "<style scoped>\n",
       "    .dataframe tbody tr th:only-of-type {\n",
       "        vertical-align: middle;\n",
       "    }\n",
       "\n",
       "    .dataframe tbody tr th {\n",
       "        vertical-align: top;\n",
       "    }\n",
       "\n",
       "    .dataframe thead th {\n",
       "        text-align: right;\n",
       "    }\n",
       "</style>\n",
       "<table border=\"1\" class=\"dataframe\">\n",
       "  <thead>\n",
       "    <tr style=\"text-align: right;\">\n",
       "      <th></th>\n",
       "      <th>Empresa</th>\n",
       "      <th>Relato</th>\n",
       "      <th>Avaliacao</th>\n",
       "      <th>Relato_Lematizado</th>\n",
       "      <th>Relato_Lematizao_SW</th>\n",
       "    </tr>\n",
       "  </thead>\n",
       "  <tbody>\n",
       "    <tr>\n",
       "      <th>10182</th>\n",
       "      <td>Banco Santander</td>\n",
       "      <td>quitei uma divida com um desconto que o propri...</td>\n",
       "      <td>3</td>\n",
       "      <td>quitar um divido com um desconto que o proprio...</td>\n",
       "      <td>[quitar, divido, desconto, proprio, banco, for...</td>\n",
       "    </tr>\n",
       "    <tr>\n",
       "      <th>2155</th>\n",
       "      <td>Nubank</td>\n",
       "      <td>olá gostaria que fizessem uma simulação corret...</td>\n",
       "      <td>1</td>\n",
       "      <td>olá gostar que fizer um simulação correto de o...</td>\n",
       "      <td>[gostar, fizer, simulação, correto, fatura, ve...</td>\n",
       "    </tr>\n",
       "    <tr>\n",
       "      <th>3344</th>\n",
       "      <td>Banco Inter (Banco Intermedium)</td>\n",
       "      <td>meu nome continua com problemas pra conseguir ...</td>\n",
       "      <td>2</td>\n",
       "      <td>meu nome continuar com problema pra conseguir ...</td>\n",
       "      <td>[nome, continuar, problema, conseguir, cartão,...</td>\n",
       "    </tr>\n",
       "    <tr>\n",
       "      <th>10821</th>\n",
       "      <td>Mercado Pago</td>\n",
       "      <td>em 160924 fizemos uma compra de luvas no site ...</td>\n",
       "      <td>5</td>\n",
       "      <td>em 160924 fizemos um compra de luva em o site ...</td>\n",
       "      <td>[fizemos, compra, luva, site, napoli, descartá...</td>\n",
       "    </tr>\n",
       "    <tr>\n",
       "      <th>9492</th>\n",
       "      <td>C6 Bank</td>\n",
       "      <td>após uma recaída que levou meu filho pedro hac...</td>\n",
       "      <td>1</td>\n",
       "      <td>após um recaída que levar meu filho Pedro hach...</td>\n",
       "      <td>[recaída, levar, filho, Pedro, hachiya, rangel...</td>\n",
       "    </tr>\n",
       "  </tbody>\n",
       "</table>\n",
       "</div>"
      ],
      "text/plain": [
       "                               Empresa  \\\n",
       "10182                  Banco Santander   \n",
       "2155                            Nubank   \n",
       "3344   Banco Inter (Banco Intermedium)   \n",
       "10821                     Mercado Pago   \n",
       "9492                           C6 Bank   \n",
       "\n",
       "                                                  Relato Avaliacao  \\\n",
       "10182  quitei uma divida com um desconto que o propri...         3   \n",
       "2155   olá gostaria que fizessem uma simulação corret...         1   \n",
       "3344   meu nome continua com problemas pra conseguir ...         2   \n",
       "10821  em 160924 fizemos uma compra de luvas no site ...         5   \n",
       "9492   após uma recaída que levou meu filho pedro hac...         1   \n",
       "\n",
       "                                       Relato_Lematizado  \\\n",
       "10182  quitar um divido com um desconto que o proprio...   \n",
       "2155   olá gostar que fizer um simulação correto de o...   \n",
       "3344   meu nome continuar com problema pra conseguir ...   \n",
       "10821  em 160924 fizemos um compra de luva em o site ...   \n",
       "9492   após um recaída que levar meu filho Pedro hach...   \n",
       "\n",
       "                                     Relato_Lematizao_SW  \n",
       "10182  [quitar, divido, desconto, proprio, banco, for...  \n",
       "2155   [gostar, fizer, simulação, correto, fatura, ve...  \n",
       "3344   [nome, continuar, problema, conseguir, cartão,...  \n",
       "10821  [fizemos, compra, luva, site, napoli, descartá...  \n",
       "9492   [recaída, levar, filho, Pedro, hachiya, rangel...  "
      ]
     },
     "execution_count": 153,
     "metadata": {},
     "output_type": "execute_result"
    }
   ],
   "source": [
    "dados_prontos.sample(5)"
   ]
  },
  {
   "cell_type": "code",
   "execution_count": null,
   "metadata": {},
   "outputs": [],
   "source": [
    "# Adicionando novas Stopwords\n",
    "stopwords_PT.update({'fiz', 'ja', 'olá', 'ter', 'dar', 'aqui', 'ir', 'dia', 'pra', 'uso', 'após', 'consigir', 'pois', 'abrir', 'pq'})"
   ]
  },
  {
   "cell_type": "code",
   "execution_count": 154,
   "metadata": {},
   "outputs": [],
   "source": [
    "# Retirando colunas desnecessárias ao problema de negócio\n",
    "dados_prontos.drop(columns={\"Relato\", \"Avaliacao\", \"Relato_Lematizado\"}, inplace=True)"
   ]
  },
  {
   "cell_type": "code",
   "execution_count": 156,
   "metadata": {},
   "outputs": [
    {
     "data": {
      "text/html": [
       "<div>\n",
       "<style scoped>\n",
       "    .dataframe tbody tr th:only-of-type {\n",
       "        vertical-align: middle;\n",
       "    }\n",
       "\n",
       "    .dataframe tbody tr th {\n",
       "        vertical-align: top;\n",
       "    }\n",
       "\n",
       "    .dataframe thead th {\n",
       "        text-align: right;\n",
       "    }\n",
       "</style>\n",
       "<table border=\"1\" class=\"dataframe\">\n",
       "  <thead>\n",
       "    <tr style=\"text-align: right;\">\n",
       "      <th></th>\n",
       "      <th>Empresa</th>\n",
       "      <th>Relato_Lematizao_SW</th>\n",
       "    </tr>\n",
       "  </thead>\n",
       "  <tbody>\n",
       "    <tr>\n",
       "      <th>7947</th>\n",
       "      <td>Banco Itaú Unibanco</td>\n",
       "      <td>[entrar, contato, banco, solicitar, revogação,...</td>\n",
       "    </tr>\n",
       "  </tbody>\n",
       "</table>\n",
       "</div>"
      ],
      "text/plain": [
       "                  Empresa                                Relato_Lematizao_SW\n",
       "7947  Banco Itaú Unibanco  [entrar, contato, banco, solicitar, revogação,..."
      ]
     },
     "execution_count": 156,
     "metadata": {},
     "output_type": "execute_result"
    }
   ],
   "source": [
    "dados_prontos.sample()"
   ]
  },
  {
   "cell_type": "code",
   "execution_count": 157,
   "metadata": {},
   "outputs": [],
   "source": [
    "dados_prontos.to_csv('/Projetos Pessoais/DataScience/PLN_Text_Analysis/data/dados_Frequency.csv',\n",
    "                       sep =',', index = False, encoding = 'utf-8')"
   ]
  },
  {
   "cell_type": "code",
   "execution_count": null,
   "metadata": {},
   "outputs": [],
   "source": []
  }
 ],
 "metadata": {
  "kernelspec": {
   "display_name": "base",
   "language": "python",
   "name": "python3"
  },
  "language_info": {
   "codemirror_mode": {
    "name": "ipython",
    "version": 3
   },
   "file_extension": ".py",
   "mimetype": "text/x-python",
   "name": "python",
   "nbconvert_exporter": "python",
   "pygments_lexer": "ipython3",
   "version": "3.9.13"
  }
 },
 "nbformat": 4,
 "nbformat_minor": 2
}
