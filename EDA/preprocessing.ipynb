{
 "cells": [
  {
   "cell_type": "markdown",
   "metadata": {},
   "source": [
    "# <font color = 'red'> Pré Processamento e Engenharia de Atributos</font>\n",
    "\n",
    "### <font color = 'red'> Foco: </font>\n",
    "\n",
    "- Pré processar o texto para a etapa de análise de sentimentos\n",
    "\n",
    "- Remoção de stopwords e outros, para verificar ocorrência"
   ]
  },
  {
   "cell_type": "code",
   "execution_count": 1,
   "metadata": {},
   "outputs": [],
   "source": [
    "# Imports\n",
    "import os\n",
    "import re\n",
    "import numpy as np\n",
    "import pandas as pd"
   ]
  },
  {
   "cell_type": "code",
   "execution_count": 2,
   "metadata": {},
   "outputs": [],
   "source": [
    "# Visualizando Cj dados\n",
    "dados = pd.read_csv('/Projetos Pessoais/DataScience/PLN_Text_Analysis/data/data_scraping.csv',\n",
    "                       sep =',')"
   ]
  },
  {
   "cell_type": "code",
   "execution_count": 3,
   "metadata": {},
   "outputs": [
    {
     "data": {
      "text/html": [
       "<div>\n",
       "<style scoped>\n",
       "    .dataframe tbody tr th:only-of-type {\n",
       "        vertical-align: middle;\n",
       "    }\n",
       "\n",
       "    .dataframe tbody tr th {\n",
       "        vertical-align: top;\n",
       "    }\n",
       "\n",
       "    .dataframe thead th {\n",
       "        text-align: right;\n",
       "    }\n",
       "</style>\n",
       "<table border=\"1\" class=\"dataframe\">\n",
       "  <thead>\n",
       "    <tr style=\"text-align: right;\">\n",
       "      <th></th>\n",
       "      <th>Empresa</th>\n",
       "      <th>Relato</th>\n",
       "    </tr>\n",
       "  </thead>\n",
       "  <tbody>\n",
       "    <tr>\n",
       "      <th>0</th>\n",
       "      <td>Cartão Cencosud GBarbosa</td>\n",
       "      <td>Em (01/11) fui verificar a fatura do cartão de...</td>\n",
       "    </tr>\n",
       "    <tr>\n",
       "      <th>1</th>\n",
       "      <td>Latam Airlines (Tam)</td>\n",
       "      <td>Minha reserva foi alterada pela empresa e eu t...</td>\n",
       "    </tr>\n",
       "    <tr>\n",
       "      <th>2</th>\n",
       "      <td>TCL SEMP</td>\n",
       "      <td>Prezado, No dia 16/09/2021 fiz a compra de uma...</td>\n",
       "    </tr>\n",
       "    <tr>\n",
       "      <th>3</th>\n",
       "      <td>iFood</td>\n",
       "      <td>Comprei um cobinado de sushi com 60 peças do r...</td>\n",
       "    </tr>\n",
       "    <tr>\n",
       "      <th>4</th>\n",
       "      <td>Latam Airlines (Tam)</td>\n",
       "      <td>Comprei as passagens no dia 09/10/24, cancelei...</td>\n",
       "    </tr>\n",
       "  </tbody>\n",
       "</table>\n",
       "</div>"
      ],
      "text/plain": [
       "                    Empresa                                             Relato\n",
       "0  Cartão Cencosud GBarbosa  Em (01/11) fui verificar a fatura do cartão de...\n",
       "1      Latam Airlines (Tam)  Minha reserva foi alterada pela empresa e eu t...\n",
       "2                  TCL SEMP  Prezado, No dia 16/09/2021 fiz a compra de uma...\n",
       "3                     iFood  Comprei um cobinado de sushi com 60 peças do r...\n",
       "4      Latam Airlines (Tam)  Comprei as passagens no dia 09/10/24, cancelei..."
      ]
     },
     "execution_count": 3,
     "metadata": {},
     "output_type": "execute_result"
    }
   ],
   "source": [
    "dados.head()"
   ]
  },
  {
   "cell_type": "code",
   "execution_count": 4,
   "metadata": {},
   "outputs": [],
   "source": [
    "instituicoes_financeiras = ['Nubank',\n",
    "              'Banco do Brasil',\n",
    "              'Caixa Econômica Federal',\n",
    "              'Banco Santander',\n",
    "              'Banco Itaú Unibanco',\n",
    "              'Mercado Pago',\n",
    "              'Banco Inter (Banco Intermedium)',\n",
    "              'Banco Bradesco',\n",
    "              'C6 Bank']"
   ]
  },
  {
   "cell_type": "code",
   "execution_count": 5,
   "metadata": {},
   "outputs": [],
   "source": [
    "# Selecionando apenas instituições financeiras\n",
    "\n",
    "dados_financeiros = dados[dados['Empresa'].isin(instituicoes_financeiras)]"
   ]
  },
  {
   "cell_type": "code",
   "execution_count": 6,
   "metadata": {},
   "outputs": [
    {
     "data": {
      "text/html": [
       "<div>\n",
       "<style scoped>\n",
       "    .dataframe tbody tr th:only-of-type {\n",
       "        vertical-align: middle;\n",
       "    }\n",
       "\n",
       "    .dataframe tbody tr th {\n",
       "        vertical-align: top;\n",
       "    }\n",
       "\n",
       "    .dataframe thead th {\n",
       "        text-align: right;\n",
       "    }\n",
       "</style>\n",
       "<table border=\"1\" class=\"dataframe\">\n",
       "  <thead>\n",
       "    <tr style=\"text-align: right;\">\n",
       "      <th></th>\n",
       "      <th>Empresa</th>\n",
       "      <th>Quantidade Relatos</th>\n",
       "    </tr>\n",
       "  </thead>\n",
       "  <tbody>\n",
       "    <tr>\n",
       "      <th>0</th>\n",
       "      <td>Nubank</td>\n",
       "      <td>369</td>\n",
       "    </tr>\n",
       "    <tr>\n",
       "      <th>1</th>\n",
       "      <td>Banco do Brasil</td>\n",
       "      <td>268</td>\n",
       "    </tr>\n",
       "    <tr>\n",
       "      <th>2</th>\n",
       "      <td>Caixa Econômica Federal</td>\n",
       "      <td>189</td>\n",
       "    </tr>\n",
       "    <tr>\n",
       "      <th>3</th>\n",
       "      <td>Banco Santander</td>\n",
       "      <td>135</td>\n",
       "    </tr>\n",
       "    <tr>\n",
       "      <th>4</th>\n",
       "      <td>Banco Itaú Unibanco</td>\n",
       "      <td>122</td>\n",
       "    </tr>\n",
       "    <tr>\n",
       "      <th>5</th>\n",
       "      <td>Banco Bradesco</td>\n",
       "      <td>108</td>\n",
       "    </tr>\n",
       "    <tr>\n",
       "      <th>6</th>\n",
       "      <td>Mercado Pago</td>\n",
       "      <td>104</td>\n",
       "    </tr>\n",
       "    <tr>\n",
       "      <th>7</th>\n",
       "      <td>Banco Inter (Banco Intermedium)</td>\n",
       "      <td>91</td>\n",
       "    </tr>\n",
       "    <tr>\n",
       "      <th>8</th>\n",
       "      <td>C6 Bank</td>\n",
       "      <td>54</td>\n",
       "    </tr>\n",
       "  </tbody>\n",
       "</table>\n",
       "</div>"
      ],
      "text/plain": [
       "                           Empresa  Quantidade Relatos\n",
       "0                           Nubank                 369\n",
       "1                  Banco do Brasil                 268\n",
       "2          Caixa Econômica Federal                 189\n",
       "3                  Banco Santander                 135\n",
       "4              Banco Itaú Unibanco                 122\n",
       "5                   Banco Bradesco                 108\n",
       "6                     Mercado Pago                 104\n",
       "7  Banco Inter (Banco Intermedium)                  91\n",
       "8                          C6 Bank                  54"
      ]
     },
     "execution_count": 6,
     "metadata": {},
     "output_type": "execute_result"
    }
   ],
   "source": [
    "#Verificando ocorrências\n",
    "\n",
    "dados_financeiros.Empresa.value_counts().reset_index(name='Quantidade Relatos')"
   ]
  },
  {
   "cell_type": "code",
   "execution_count": 7,
   "metadata": {},
   "outputs": [
    {
     "data": {
      "text/html": [
       "<div>\n",
       "<style scoped>\n",
       "    .dataframe tbody tr th:only-of-type {\n",
       "        vertical-align: middle;\n",
       "    }\n",
       "\n",
       "    .dataframe tbody tr th {\n",
       "        vertical-align: top;\n",
       "    }\n",
       "\n",
       "    .dataframe thead th {\n",
       "        text-align: right;\n",
       "    }\n",
       "</style>\n",
       "<table border=\"1\" class=\"dataframe\">\n",
       "  <thead>\n",
       "    <tr style=\"text-align: right;\">\n",
       "      <th></th>\n",
       "      <th>Empresa</th>\n",
       "      <th>Relato</th>\n",
       "    </tr>\n",
       "  </thead>\n",
       "  <tbody>\n",
       "    <tr>\n",
       "      <th>21</th>\n",
       "      <td>Nubank</td>\n",
       "      <td>Recebi uma proposta do feirao Serasa no valor ...</td>\n",
       "    </tr>\n",
       "    <tr>\n",
       "      <th>23</th>\n",
       "      <td>Nubank</td>\n",
       "      <td>QUERO UM DETALHAMENTO DOS JUROS, QUE ESTÃO MUI...</td>\n",
       "    </tr>\n",
       "    <tr>\n",
       "      <th>28</th>\n",
       "      <td>Nubank</td>\n",
       "      <td>Venho expressar minha insatisfação em relação ...</td>\n",
       "    </tr>\n",
       "    <tr>\n",
       "      <th>30</th>\n",
       "      <td>Nubank</td>\n",
       "      <td>Juros muito altos, pagando muito mais do que o...</td>\n",
       "    </tr>\n",
       "    <tr>\n",
       "      <th>34</th>\n",
       "      <td>Nubank</td>\n",
       "      <td>Entrei em contato com a nubank pelo aplicativo...</td>\n",
       "    </tr>\n",
       "    <tr>\n",
       "      <th>35</th>\n",
       "      <td>Nubank</td>\n",
       "      <td>Prezada equipe do Nubank, Espero que esta mens...</td>\n",
       "    </tr>\n",
       "    <tr>\n",
       "      <th>36</th>\n",
       "      <td>Nubank</td>\n",
       "      <td>Deixei de pagar uma conta, porem o juros foi a...</td>\n",
       "    </tr>\n",
       "    <tr>\n",
       "      <th>38</th>\n",
       "      <td>Caixa Econômica Federal</td>\n",
       "      <td>Prezado(a), Venho solicitar, com urgência, a r...</td>\n",
       "    </tr>\n",
       "    <tr>\n",
       "      <th>45</th>\n",
       "      <td>Nubank</td>\n",
       "      <td>Quero renegociar mas com valores dentro da min...</td>\n",
       "    </tr>\n",
       "    <tr>\n",
       "      <th>47</th>\n",
       "      <td>Nubank</td>\n",
       "      <td>Ofereceram um parcelamento da fatura do cartão...</td>\n",
       "    </tr>\n",
       "  </tbody>\n",
       "</table>\n",
       "</div>"
      ],
      "text/plain": [
       "                    Empresa                                             Relato\n",
       "21                   Nubank  Recebi uma proposta do feirao Serasa no valor ...\n",
       "23                   Nubank  QUERO UM DETALHAMENTO DOS JUROS, QUE ESTÃO MUI...\n",
       "28                   Nubank  Venho expressar minha insatisfação em relação ...\n",
       "30                   Nubank  Juros muito altos, pagando muito mais do que o...\n",
       "34                   Nubank  Entrei em contato com a nubank pelo aplicativo...\n",
       "35                   Nubank  Prezada equipe do Nubank, Espero que esta mens...\n",
       "36                   Nubank  Deixei de pagar uma conta, porem o juros foi a...\n",
       "38  Caixa Econômica Federal  Prezado(a), Venho solicitar, com urgência, a r...\n",
       "45                   Nubank  Quero renegociar mas com valores dentro da min...\n",
       "47                   Nubank  Ofereceram um parcelamento da fatura do cartão..."
      ]
     },
     "execution_count": 7,
     "metadata": {},
     "output_type": "execute_result"
    }
   ],
   "source": [
    "dados_financeiros.head(10)"
   ]
  },
  {
   "cell_type": "markdown",
   "metadata": {},
   "source": [
    "### <font color='green'> Remoção de pontuações e deixando o texto em caixa baixa"
   ]
  },
  {
   "cell_type": "code",
   "execution_count": 8,
   "metadata": {},
   "outputs": [],
   "source": [
    "def processa_sentimento(text):\n",
    " # Minuscula\n",
    " text = text.lower()\n",
    "\n",
    " # retirando pontuações, exceto \".\"\n",
    " text = re.sub(r'[^\\w\\s.]', '', text)\n",
    "\n",
    " return text"
   ]
  },
  {
   "cell_type": "code",
   "execution_count": 9,
   "metadata": {},
   "outputs": [
    {
     "name": "stderr",
     "output_type": "stream",
     "text": [
      "C:\\Users\\alyss\\AppData\\Local\\Temp\\ipykernel_20312\\750078115.py:1: SettingWithCopyWarning: \n",
      "A value is trying to be set on a copy of a slice from a DataFrame.\n",
      "Try using .loc[row_indexer,col_indexer] = value instead\n",
      "\n",
      "See the caveats in the documentation: https://pandas.pydata.org/pandas-docs/stable/user_guide/indexing.html#returning-a-view-versus-a-copy\n",
      "  dados_financeiros['Relato'] = dados_financeiros['Relato'].apply(processa_sentimento)\n"
     ]
    }
   ],
   "source": [
    "dados_financeiros['Relato'] = dados_financeiros['Relato'].apply(processa_sentimento)"
   ]
  },
  {
   "cell_type": "code",
   "execution_count": 11,
   "metadata": {},
   "outputs": [
    {
     "data": {
      "text/html": [
       "<div>\n",
       "<style scoped>\n",
       "    .dataframe tbody tr th:only-of-type {\n",
       "        vertical-align: middle;\n",
       "    }\n",
       "\n",
       "    .dataframe tbody tr th {\n",
       "        vertical-align: top;\n",
       "    }\n",
       "\n",
       "    .dataframe thead th {\n",
       "        text-align: right;\n",
       "    }\n",
       "</style>\n",
       "<table border=\"1\" class=\"dataframe\">\n",
       "  <thead>\n",
       "    <tr style=\"text-align: right;\">\n",
       "      <th></th>\n",
       "      <th>Empresa</th>\n",
       "      <th>Relato</th>\n",
       "    </tr>\n",
       "  </thead>\n",
       "  <tbody>\n",
       "    <tr>\n",
       "      <th>5217</th>\n",
       "      <td>C6 Bank</td>\n",
       "      <td>venho solicitar o ded  demonstrativo de evoluç...</td>\n",
       "    </tr>\n",
       "    <tr>\n",
       "      <th>2544</th>\n",
       "      <td>Nubank</td>\n",
       "      <td>minha dívida era de 35000hoje está em 334100 p...</td>\n",
       "    </tr>\n",
       "    <tr>\n",
       "      <th>8104</th>\n",
       "      <td>Mercado Pago</td>\n",
       "      <td>no dia 06 de outubro do corrente ano de 2024 a...</td>\n",
       "    </tr>\n",
       "    <tr>\n",
       "      <th>2420</th>\n",
       "      <td>Caixa Econômica Federal</td>\n",
       "      <td>consta registro de negativação referente contr...</td>\n",
       "    </tr>\n",
       "    <tr>\n",
       "      <th>7423</th>\n",
       "      <td>Banco Santander</td>\n",
       "      <td>minha divida era r 1.50000 e hoje está em r 2....</td>\n",
       "    </tr>\n",
       "  </tbody>\n",
       "</table>\n",
       "</div>"
      ],
      "text/plain": [
       "                      Empresa  \\\n",
       "5217                  C6 Bank   \n",
       "2544                   Nubank   \n",
       "8104             Mercado Pago   \n",
       "2420  Caixa Econômica Federal   \n",
       "7423          Banco Santander   \n",
       "\n",
       "                                                 Relato  \n",
       "5217  venho solicitar o ded  demonstrativo de evoluç...  \n",
       "2544  minha dívida era de 35000hoje está em 334100 p...  \n",
       "8104  no dia 06 de outubro do corrente ano de 2024 a...  \n",
       "2420  consta registro de negativação referente contr...  \n",
       "7423  minha divida era r 1.50000 e hoje está em r 2....  "
      ]
     },
     "execution_count": 11,
     "metadata": {},
     "output_type": "execute_result"
    }
   ],
   "source": [
    "dados_financeiros.sample(5)"
   ]
  },
  {
   "cell_type": "code",
   "execution_count": 30,
   "metadata": {},
   "outputs": [],
   "source": [
    "dados_financeiros.to_csv('/Projetos Pessoais/DataScience/PLN_Text_Analysis/data/dados_financeiros_sentimentos.csv',\n",
    "                       sep =',', index = False, encoding = 'utf-8')\n"
   ]
  },
  {
   "cell_type": "markdown",
   "metadata": {},
   "source": [
    "### <font color='green'> Pré processamento para frequência"
   ]
  },
  {
   "cell_type": "markdown",
   "metadata": {},
   "source": []
  }
 ],
 "metadata": {
  "kernelspec": {
   "display_name": "base",
   "language": "python",
   "name": "python3"
  },
  "language_info": {
   "codemirror_mode": {
    "name": "ipython",
    "version": 3
   },
   "file_extension": ".py",
   "mimetype": "text/x-python",
   "name": "python",
   "nbconvert_exporter": "python",
   "pygments_lexer": "ipython3",
   "version": "3.9.13"
  }
 },
 "nbformat": 4,
 "nbformat_minor": 2
}
