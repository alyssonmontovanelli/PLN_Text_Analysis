{
 "cells": [
  {
   "cell_type": "markdown",
   "metadata": {},
   "source": [
    "# <font color = 'red'> Pré Processamento e Engenharia de Atributos</font>\n",
    "\n",
    "### <font color = 'red'> Foco: </font>\n",
    "\n",
    "- Pré processar o texto para a etapa de análise de sentimentos\n",
    "\n",
    "- Remoção de stopwords e outros, para verificar ocorrência"
   ]
  },
  {
   "cell_type": "code",
   "execution_count": 1,
   "metadata": {},
   "outputs": [],
   "source": [
    "# Imports\n",
    "import os\n",
    "import re\n",
    "import numpy as np\n",
    "import pandas as pd"
   ]
  },
  {
   "cell_type": "code",
   "execution_count": 13,
   "metadata": {},
   "outputs": [],
   "source": [
    "# Visualizando Cj dados\n",
    "dados = pd.read_csv('/Projetos Pessoais/DataScience/PLN_Text_Analysis/data/data_scraping_bruto.csv',\n",
    "                       sep =',')"
   ]
  },
  {
   "cell_type": "code",
   "execution_count": 14,
   "metadata": {},
   "outputs": [
    {
     "data": {
      "text/html": [
       "<div>\n",
       "<style scoped>\n",
       "    .dataframe tbody tr th:only-of-type {\n",
       "        vertical-align: middle;\n",
       "    }\n",
       "\n",
       "    .dataframe tbody tr th {\n",
       "        vertical-align: top;\n",
       "    }\n",
       "\n",
       "    .dataframe thead th {\n",
       "        text-align: right;\n",
       "    }\n",
       "</style>\n",
       "<table border=\"1\" class=\"dataframe\">\n",
       "  <thead>\n",
       "    <tr style=\"text-align: right;\">\n",
       "      <th></th>\n",
       "      <th>Empresa</th>\n",
       "      <th>Relato</th>\n",
       "      <th>Avaliacao</th>\n",
       "    </tr>\n",
       "  </thead>\n",
       "  <tbody>\n",
       "    <tr>\n",
       "      <th>0</th>\n",
       "      <td>Serasa Experian</td>\n",
       "      <td>C. A legislação consumerista (à luz da qual de...</td>\n",
       "      <td>Nota 5</td>\n",
       "    </tr>\n",
       "    <tr>\n",
       "      <th>1</th>\n",
       "      <td>Serasa Experian</td>\n",
       "      <td>Solicito a baixa dos meus dados junto ao SERAS...</td>\n",
       "      <td>Nota 1</td>\n",
       "    </tr>\n",
       "    <tr>\n",
       "      <th>2</th>\n",
       "      <td>Serasa Experian</td>\n",
       "      <td>Eu solicito a limpeza em seus cadastros</td>\n",
       "      <td>Nota 5</td>\n",
       "    </tr>\n",
       "    <tr>\n",
       "      <th>3</th>\n",
       "      <td>Latam Airlines (Tam)</td>\n",
       "      <td>Prezados, apesar de ser cliente da categoria g...</td>\n",
       "      <td>Nota 5</td>\n",
       "    </tr>\n",
       "    <tr>\n",
       "      <th>4</th>\n",
       "      <td>Serasa Experian</td>\n",
       "      <td>Em 04/11/2024 verifiquei o extrato da conta co...</td>\n",
       "      <td>Nota 1</td>\n",
       "    </tr>\n",
       "  </tbody>\n",
       "</table>\n",
       "</div>"
      ],
      "text/plain": [
       "                Empresa                                             Relato  \\\n",
       "0       Serasa Experian  C. A legislação consumerista (à luz da qual de...   \n",
       "1       Serasa Experian  Solicito a baixa dos meus dados junto ao SERAS...   \n",
       "2       Serasa Experian            Eu solicito a limpeza em seus cadastros   \n",
       "3  Latam Airlines (Tam)  Prezados, apesar de ser cliente da categoria g...   \n",
       "4       Serasa Experian  Em 04/11/2024 verifiquei o extrato da conta co...   \n",
       "\n",
       "  Avaliacao  \n",
       "0    Nota 5  \n",
       "1    Nota 1  \n",
       "2    Nota 5  \n",
       "3    Nota 5  \n",
       "4    Nota 1  "
      ]
     },
     "execution_count": 14,
     "metadata": {},
     "output_type": "execute_result"
    }
   ],
   "source": [
    "dados.head()"
   ]
  },
  {
   "cell_type": "code",
   "execution_count": 15,
   "metadata": {},
   "outputs": [],
   "source": [
    "instituicoes_financeiras = ['Nubank',\n",
    "              'Banco do Brasil',\n",
    "              'Caixa Econômica Federal',\n",
    "              'Banco Santander',\n",
    "              'Banco Itaú Unibanco',\n",
    "              'Mercado Pago',\n",
    "              'Banco Inter (Banco Intermedium)',\n",
    "              'Banco Bradesco',\n",
    "              'C6 Bank']"
   ]
  },
  {
   "cell_type": "code",
   "execution_count": 16,
   "metadata": {},
   "outputs": [],
   "source": [
    "# Selecionando apenas instituições financeiras\n",
    "\n",
    "dados_financeiros = dados[dados['Empresa'].isin(instituicoes_financeiras)]"
   ]
  },
  {
   "cell_type": "code",
   "execution_count": 17,
   "metadata": {},
   "outputs": [
    {
     "data": {
      "text/html": [
       "<div>\n",
       "<style scoped>\n",
       "    .dataframe tbody tr th:only-of-type {\n",
       "        vertical-align: middle;\n",
       "    }\n",
       "\n",
       "    .dataframe tbody tr th {\n",
       "        vertical-align: top;\n",
       "    }\n",
       "\n",
       "    .dataframe thead th {\n",
       "        text-align: right;\n",
       "    }\n",
       "</style>\n",
       "<table border=\"1\" class=\"dataframe\">\n",
       "  <thead>\n",
       "    <tr style=\"text-align: right;\">\n",
       "      <th></th>\n",
       "      <th>Empresa</th>\n",
       "      <th>Quantidade Relatos</th>\n",
       "    </tr>\n",
       "  </thead>\n",
       "  <tbody>\n",
       "    <tr>\n",
       "      <th>0</th>\n",
       "      <td>Nubank</td>\n",
       "      <td>484</td>\n",
       "    </tr>\n",
       "    <tr>\n",
       "      <th>1</th>\n",
       "      <td>Banco do Brasil</td>\n",
       "      <td>365</td>\n",
       "    </tr>\n",
       "    <tr>\n",
       "      <th>2</th>\n",
       "      <td>Caixa Econômica Federal</td>\n",
       "      <td>242</td>\n",
       "    </tr>\n",
       "    <tr>\n",
       "      <th>3</th>\n",
       "      <td>Banco Santander</td>\n",
       "      <td>212</td>\n",
       "    </tr>\n",
       "    <tr>\n",
       "      <th>4</th>\n",
       "      <td>Banco Itaú Unibanco</td>\n",
       "      <td>142</td>\n",
       "    </tr>\n",
       "    <tr>\n",
       "      <th>5</th>\n",
       "      <td>Mercado Pago</td>\n",
       "      <td>139</td>\n",
       "    </tr>\n",
       "    <tr>\n",
       "      <th>6</th>\n",
       "      <td>Banco Bradesco</td>\n",
       "      <td>137</td>\n",
       "    </tr>\n",
       "    <tr>\n",
       "      <th>7</th>\n",
       "      <td>Banco Inter (Banco Intermedium)</td>\n",
       "      <td>127</td>\n",
       "    </tr>\n",
       "    <tr>\n",
       "      <th>8</th>\n",
       "      <td>C6 Bank</td>\n",
       "      <td>72</td>\n",
       "    </tr>\n",
       "  </tbody>\n",
       "</table>\n",
       "</div>"
      ],
      "text/plain": [
       "                           Empresa  Quantidade Relatos\n",
       "0                           Nubank                 484\n",
       "1                  Banco do Brasil                 365\n",
       "2          Caixa Econômica Federal                 242\n",
       "3                  Banco Santander                 212\n",
       "4              Banco Itaú Unibanco                 142\n",
       "5                     Mercado Pago                 139\n",
       "6                   Banco Bradesco                 137\n",
       "7  Banco Inter (Banco Intermedium)                 127\n",
       "8                          C6 Bank                  72"
      ]
     },
     "execution_count": 17,
     "metadata": {},
     "output_type": "execute_result"
    }
   ],
   "source": [
    "#Verificando ocorrências\n",
    "\n",
    "dados_financeiros.Empresa.value_counts().reset_index(name='Quantidade Relatos')"
   ]
  },
  {
   "cell_type": "code",
   "execution_count": 18,
   "metadata": {},
   "outputs": [
    {
     "data": {
      "text/html": [
       "<div>\n",
       "<style scoped>\n",
       "    .dataframe tbody tr th:only-of-type {\n",
       "        vertical-align: middle;\n",
       "    }\n",
       "\n",
       "    .dataframe tbody tr th {\n",
       "        vertical-align: top;\n",
       "    }\n",
       "\n",
       "    .dataframe thead th {\n",
       "        text-align: right;\n",
       "    }\n",
       "</style>\n",
       "<table border=\"1\" class=\"dataframe\">\n",
       "  <thead>\n",
       "    <tr style=\"text-align: right;\">\n",
       "      <th></th>\n",
       "      <th>Empresa</th>\n",
       "      <th>Relato</th>\n",
       "      <th>Avaliacao</th>\n",
       "    </tr>\n",
       "  </thead>\n",
       "  <tbody>\n",
       "    <tr>\n",
       "      <th>23</th>\n",
       "      <td>Caixa Econômica Federal</td>\n",
       "      <td>Não consigo crédito pra fazer um empréstimo me...</td>\n",
       "      <td>Nota 3</td>\n",
       "    </tr>\n",
       "    <tr>\n",
       "      <th>41</th>\n",
       "      <td>Nubank</td>\n",
       "      <td>ja houve o pagamento da negociacao</td>\n",
       "      <td>Nota 2</td>\n",
       "    </tr>\n",
       "    <tr>\n",
       "      <th>45</th>\n",
       "      <td>Nubank</td>\n",
       "      <td>Exclusao do nome Retirar negativacao do nome s...</td>\n",
       "      <td>Nota 1</td>\n",
       "    </tr>\n",
       "    <tr>\n",
       "      <th>49</th>\n",
       "      <td>C6 Bank</td>\n",
       "      <td>Sou cliente do C6 Bank há tempos, sempre mante...</td>\n",
       "      <td>Nota 1</td>\n",
       "    </tr>\n",
       "    <tr>\n",
       "      <th>52</th>\n",
       "      <td>Nubank</td>\n",
       "      <td>Gostaria de reclamar sobre essa dívida quer Es...</td>\n",
       "      <td>Nota 5</td>\n",
       "    </tr>\n",
       "    <tr>\n",
       "      <th>58</th>\n",
       "      <td>Banco Itaú Unibanco</td>\n",
       "      <td>O Itaú financiamentos fez Constar na SCR Uma l...</td>\n",
       "      <td>Nota 1</td>\n",
       "    </tr>\n",
       "    <tr>\n",
       "      <th>59</th>\n",
       "      <td>Nubank</td>\n",
       "      <td>Eu fiz um acordo para pagamento da minha dívid...</td>\n",
       "      <td>Nota 3</td>\n",
       "    </tr>\n",
       "    <tr>\n",
       "      <th>69</th>\n",
       "      <td>Banco Itaú Unibanco</td>\n",
       "      <td>Primeiramente quero agradecer o banco itau, po...</td>\n",
       "      <td>Nota 5</td>\n",
       "    </tr>\n",
       "    <tr>\n",
       "      <th>73</th>\n",
       "      <td>Nubank</td>\n",
       "      <td>Reclamação Nubank Gostaria de registrar minha ...</td>\n",
       "      <td>Nota 1</td>\n",
       "    </tr>\n",
       "    <tr>\n",
       "      <th>81</th>\n",
       "      <td>Caixa Econômica Federal</td>\n",
       "      <td>Desejo participar do mutirão de renegociação.</td>\n",
       "      <td>Nota 1</td>\n",
       "    </tr>\n",
       "  </tbody>\n",
       "</table>\n",
       "</div>"
      ],
      "text/plain": [
       "                    Empresa  \\\n",
       "23  Caixa Econômica Federal   \n",
       "41                   Nubank   \n",
       "45                   Nubank   \n",
       "49                  C6 Bank   \n",
       "52                   Nubank   \n",
       "58      Banco Itaú Unibanco   \n",
       "59                   Nubank   \n",
       "69      Banco Itaú Unibanco   \n",
       "73                   Nubank   \n",
       "81  Caixa Econômica Federal   \n",
       "\n",
       "                                               Relato Avaliacao  \n",
       "23  Não consigo crédito pra fazer um empréstimo me...    Nota 3  \n",
       "41                 ja houve o pagamento da negociacao    Nota 2  \n",
       "45  Exclusao do nome Retirar negativacao do nome s...    Nota 1  \n",
       "49  Sou cliente do C6 Bank há tempos, sempre mante...    Nota 1  \n",
       "52  Gostaria de reclamar sobre essa dívida quer Es...    Nota 5  \n",
       "58  O Itaú financiamentos fez Constar na SCR Uma l...    Nota 1  \n",
       "59  Eu fiz um acordo para pagamento da minha dívid...    Nota 3  \n",
       "69  Primeiramente quero agradecer o banco itau, po...    Nota 5  \n",
       "73  Reclamação Nubank Gostaria de registrar minha ...    Nota 1  \n",
       "81      Desejo participar do mutirão de renegociação.    Nota 1  "
      ]
     },
     "execution_count": 18,
     "metadata": {},
     "output_type": "execute_result"
    }
   ],
   "source": [
    "dados_financeiros.head(10)"
   ]
  },
  {
   "cell_type": "code",
   "execution_count": 24,
   "metadata": {},
   "outputs": [
    {
     "name": "stderr",
     "output_type": "stream",
     "text": [
      "C:\\Users\\alyss\\AppData\\Local\\Temp\\ipykernel_20312\\3650314984.py:1: SettingWithCopyWarning: \n",
      "A value is trying to be set on a copy of a slice from a DataFrame.\n",
      "Try using .loc[row_indexer,col_indexer] = value instead\n",
      "\n",
      "See the caveats in the documentation: https://pandas.pydata.org/pandas-docs/stable/user_guide/indexing.html#returning-a-view-versus-a-copy\n",
      "  dados_financeiros['Avaliacao'] = dados_financeiros['Avaliacao'].str.extract(r'(\\d+)')\n"
     ]
    }
   ],
   "source": [
    "dados_financeiros['Avaliacao'] = dados_financeiros['Avaliacao'].str.extract(r'(\\d+)')"
   ]
  },
  {
   "cell_type": "code",
   "execution_count": 26,
   "metadata": {},
   "outputs": [
    {
     "name": "stdout",
     "output_type": "stream",
     "text": [
      "<class 'pandas.core.frame.DataFrame'>\n",
      "Index: 1920 entries, 23 to 10929\n",
      "Data columns (total 3 columns):\n",
      " #   Column     Non-Null Count  Dtype \n",
      "---  ------     --------------  ----- \n",
      " 0   Empresa    1920 non-null   object\n",
      " 1   Relato     1920 non-null   object\n",
      " 2   Avaliacao  1920 non-null   object\n",
      "dtypes: object(3)\n",
      "memory usage: 60.0+ KB\n"
     ]
    }
   ],
   "source": [
    "dados_financeiros.info()"
   ]
  },
  {
   "cell_type": "markdown",
   "metadata": {},
   "source": [
    "### <font color='green'> Remoção de pontuações e deixando o texto em caixa baixa"
   ]
  },
  {
   "cell_type": "code",
   "execution_count": 27,
   "metadata": {},
   "outputs": [],
   "source": [
    "def processa_sentimento(text):\n",
    " # Minuscula\n",
    " text = text.lower()\n",
    "\n",
    " # retirando pontuações, exceto \".\"\n",
    " text = re.sub(r'[^\\w\\s.]', '', text)\n",
    "\n",
    " return text"
   ]
  },
  {
   "cell_type": "code",
   "execution_count": 28,
   "metadata": {},
   "outputs": [
    {
     "name": "stderr",
     "output_type": "stream",
     "text": [
      "C:\\Users\\alyss\\AppData\\Local\\Temp\\ipykernel_20312\\750078115.py:1: SettingWithCopyWarning: \n",
      "A value is trying to be set on a copy of a slice from a DataFrame.\n",
      "Try using .loc[row_indexer,col_indexer] = value instead\n",
      "\n",
      "See the caveats in the documentation: https://pandas.pydata.org/pandas-docs/stable/user_guide/indexing.html#returning-a-view-versus-a-copy\n",
      "  dados_financeiros['Relato'] = dados_financeiros['Relato'].apply(processa_sentimento)\n"
     ]
    }
   ],
   "source": [
    "dados_financeiros['Relato'] = dados_financeiros['Relato'].apply(processa_sentimento)"
   ]
  },
  {
   "cell_type": "code",
   "execution_count": 29,
   "metadata": {},
   "outputs": [
    {
     "data": {
      "text/html": [
       "<div>\n",
       "<style scoped>\n",
       "    .dataframe tbody tr th:only-of-type {\n",
       "        vertical-align: middle;\n",
       "    }\n",
       "\n",
       "    .dataframe tbody tr th {\n",
       "        vertical-align: top;\n",
       "    }\n",
       "\n",
       "    .dataframe thead th {\n",
       "        text-align: right;\n",
       "    }\n",
       "</style>\n",
       "<table border=\"1\" class=\"dataframe\">\n",
       "  <thead>\n",
       "    <tr style=\"text-align: right;\">\n",
       "      <th></th>\n",
       "      <th>Empresa</th>\n",
       "      <th>Relato</th>\n",
       "      <th>Avaliacao</th>\n",
       "    </tr>\n",
       "  </thead>\n",
       "  <tbody>\n",
       "    <tr>\n",
       "      <th>4944</th>\n",
       "      <td>Banco do Brasil</td>\n",
       "      <td>solicito exclusão dos meus dados do relatório ...</td>\n",
       "      <td>1</td>\n",
       "    </tr>\n",
       "    <tr>\n",
       "      <th>9774</th>\n",
       "      <td>Mercado Pago</td>\n",
       "      <td>negativação indevida pois não há divida na ins...</td>\n",
       "      <td>5</td>\n",
       "    </tr>\n",
       "    <tr>\n",
       "      <th>10809</th>\n",
       "      <td>Banco Bradesco</td>\n",
       "      <td>no dia 17 de outubro de 2024 fui vítima de um ...</td>\n",
       "      <td>1</td>\n",
       "    </tr>\n",
       "    <tr>\n",
       "      <th>6355</th>\n",
       "      <td>Banco Bradesco</td>\n",
       "      <td>aplicação da resolução 4.7902020 capítulo iv. ...</td>\n",
       "      <td>5</td>\n",
       "    </tr>\n",
       "    <tr>\n",
       "      <th>10478</th>\n",
       "      <td>Banco Bradesco</td>\n",
       "      <td>solicito um documento oficial do bradesco que ...</td>\n",
       "      <td>5</td>\n",
       "    </tr>\n",
       "  </tbody>\n",
       "</table>\n",
       "</div>"
      ],
      "text/plain": [
       "               Empresa                                             Relato  \\\n",
       "4944   Banco do Brasil  solicito exclusão dos meus dados do relatório ...   \n",
       "9774      Mercado Pago  negativação indevida pois não há divida na ins...   \n",
       "10809   Banco Bradesco  no dia 17 de outubro de 2024 fui vítima de um ...   \n",
       "6355    Banco Bradesco  aplicação da resolução 4.7902020 capítulo iv. ...   \n",
       "10478   Banco Bradesco  solicito um documento oficial do bradesco que ...   \n",
       "\n",
       "      Avaliacao  \n",
       "4944          1  \n",
       "9774          5  \n",
       "10809         1  \n",
       "6355          5  \n",
       "10478         5  "
      ]
     },
     "execution_count": 29,
     "metadata": {},
     "output_type": "execute_result"
    }
   ],
   "source": [
    "dados_financeiros.sample(5)"
   ]
  },
  {
   "cell_type": "code",
   "execution_count": 30,
   "metadata": {},
   "outputs": [],
   "source": [
    "dados_financeiros.to_csv('/Projetos Pessoais/DataScience/PLN_Text_Analysis/data/dados_financeiros_sentimentos.csv',\n",
    "                       sep =',', index = False, encoding = 'utf-8')\n"
   ]
  },
  {
   "cell_type": "markdown",
   "metadata": {},
   "source": [
    "### <font color='green'> Pré processamento para frequência"
   ]
  },
  {
   "cell_type": "markdown",
   "metadata": {},
   "source": []
  }
 ],
 "metadata": {
  "kernelspec": {
   "display_name": "base",
   "language": "python",
   "name": "python3"
  },
  "language_info": {
   "codemirror_mode": {
    "name": "ipython",
    "version": 3
   },
   "file_extension": ".py",
   "mimetype": "text/x-python",
   "name": "python",
   "nbconvert_exporter": "python",
   "pygments_lexer": "ipython3",
   "version": "3.9.13"
  }
 },
 "nbformat": 4,
 "nbformat_minor": 2
}
