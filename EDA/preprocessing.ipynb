{
 "cells": [
  {
   "cell_type": "markdown",
   "metadata": {},
   "source": [
    "# <font color = 'red'> Pré Processamento e Engenharia de Atributos</font>\n",
    "\n",
    "### <font color = 'red'> Foco: </font>\n",
    "\n",
    "- Pré processar o texto para a etapa de análise de sentimentos\n",
    "\n",
    "- Remoção de stopwords e outros, para verificar ocorrência"
   ]
  },
  {
   "cell_type": "code",
   "execution_count": 1,
   "metadata": {},
   "outputs": [],
   "source": [
    "# Imports\n",
    "import os\n",
    "import re\n",
    "import numpy as np\n",
    "import pandas as pd\n",
    "\n",
    "from nltk.corpus import stopwords\n",
    "from nltk.tokenize import WordPunctTokenizer\n",
    "from nltk.tokenize import word_tokenize\n",
    "\n",
    "import spacy\n",
    "\n",
    "\n",
    "\n",
    "import warnings\n",
    "warnings.filterwarnings('ignore')\n"
   ]
  },
  {
   "cell_type": "code",
   "execution_count": 14,
   "metadata": {},
   "outputs": [],
   "source": [
    "# Visualizando Cj dados\n",
    "dados = pd.read_csv('/Projetos Pessoais/DataScience/PLN_Text_Analysis/data/data_scraping_bruto_2hr.csv',\n",
    "                       sep =',')"
   ]
  },
  {
   "cell_type": "code",
   "execution_count": 15,
   "metadata": {},
   "outputs": [
    {
     "data": {
      "text/html": [
       "<div>\n",
       "<style scoped>\n",
       "    .dataframe tbody tr th:only-of-type {\n",
       "        vertical-align: middle;\n",
       "    }\n",
       "\n",
       "    .dataframe tbody tr th {\n",
       "        vertical-align: top;\n",
       "    }\n",
       "\n",
       "    .dataframe thead th {\n",
       "        text-align: right;\n",
       "    }\n",
       "</style>\n",
       "<table border=\"1\" class=\"dataframe\">\n",
       "  <thead>\n",
       "    <tr style=\"text-align: right;\">\n",
       "      <th></th>\n",
       "      <th>Empresa</th>\n",
       "      <th>Relato</th>\n",
       "      <th>Avaliacao</th>\n",
       "    </tr>\n",
       "  </thead>\n",
       "  <tbody>\n",
       "    <tr>\n",
       "      <th>0</th>\n",
       "      <td>Serasa Experian</td>\n",
       "      <td>Boa tarde! Hoje, dia 02 de Dezembro de 2024, f...</td>\n",
       "      <td>Nota 5</td>\n",
       "    </tr>\n",
       "    <tr>\n",
       "      <th>1</th>\n",
       "      <td>Sky Airline</td>\n",
       "      <td>Bom dia. Eu e minha esposa ja fizemos algumas ...</td>\n",
       "      <td>Nota 1</td>\n",
       "    </tr>\n",
       "    <tr>\n",
       "      <th>2</th>\n",
       "      <td>Serasa Experian</td>\n",
       "      <td>Hoje 02/12/2024 entrei no Serasa e constava dí...</td>\n",
       "      <td>Nota 2</td>\n",
       "    </tr>\n",
       "    <tr>\n",
       "      <th>3</th>\n",
       "      <td>Equatorial Maranhão (CEMAR)</td>\n",
       "      <td>Minha energia foi cortada, solicito que seja r...</td>\n",
       "      <td>Nota 5</td>\n",
       "    </tr>\n",
       "    <tr>\n",
       "      <th>4</th>\n",
       "      <td>Serasa Experian</td>\n",
       "      <td>CONFORME A DESCISAO DO STJ, DIVIDAS PRESCRITAS...</td>\n",
       "      <td>Nota 4</td>\n",
       "    </tr>\n",
       "  </tbody>\n",
       "</table>\n",
       "</div>"
      ],
      "text/plain": [
       "                       Empresa  \\\n",
       "0              Serasa Experian   \n",
       "1                  Sky Airline   \n",
       "2              Serasa Experian   \n",
       "3  Equatorial Maranhão (CEMAR)   \n",
       "4              Serasa Experian   \n",
       "\n",
       "                                              Relato Avaliacao  \n",
       "0  Boa tarde! Hoje, dia 02 de Dezembro de 2024, f...    Nota 5  \n",
       "1  Bom dia. Eu e minha esposa ja fizemos algumas ...    Nota 1  \n",
       "2  Hoje 02/12/2024 entrei no Serasa e constava dí...    Nota 2  \n",
       "3  Minha energia foi cortada, solicito que seja r...    Nota 5  \n",
       "4  CONFORME A DESCISAO DO STJ, DIVIDAS PRESCRITAS...    Nota 4  "
      ]
     },
     "execution_count": 15,
     "metadata": {},
     "output_type": "execute_result"
    }
   ],
   "source": [
    "dados.head()"
   ]
  },
  {
   "cell_type": "code",
   "execution_count": 16,
   "metadata": {},
   "outputs": [],
   "source": [
    "instituicoes_financeiras = ['Nubank',\n",
    "              'Banco do Brasil',\n",
    "              'Caixa Econômica Federal',\n",
    "              'Banco Santander',\n",
    "              'Banco Itaú Unibanco',\n",
    "              'Mercado Pago',\n",
    "              'Banco Inter (Banco Intermedium)',\n",
    "              'Banco Bradesco',\n",
    "              'C6 Bank',\n",
    "              'PicPay',\n",
    "              'Banco Pan']"
   ]
  },
  {
   "cell_type": "code",
   "execution_count": 17,
   "metadata": {},
   "outputs": [],
   "source": [
    "# Selecionando apenas instituições financeiras\n",
    "\n",
    "dados_financeiros = dados[dados['Empresa'].isin(instituicoes_financeiras)]"
   ]
  },
  {
   "cell_type": "code",
   "execution_count": 18,
   "metadata": {},
   "outputs": [
    {
     "data": {
      "text/html": [
       "<div>\n",
       "<style scoped>\n",
       "    .dataframe tbody tr th:only-of-type {\n",
       "        vertical-align: middle;\n",
       "    }\n",
       "\n",
       "    .dataframe tbody tr th {\n",
       "        vertical-align: top;\n",
       "    }\n",
       "\n",
       "    .dataframe thead th {\n",
       "        text-align: right;\n",
       "    }\n",
       "</style>\n",
       "<table border=\"1\" class=\"dataframe\">\n",
       "  <thead>\n",
       "    <tr style=\"text-align: right;\">\n",
       "      <th></th>\n",
       "      <th>Empresa</th>\n",
       "      <th>Quantidade Relatos</th>\n",
       "    </tr>\n",
       "  </thead>\n",
       "  <tbody>\n",
       "    <tr>\n",
       "      <th>0</th>\n",
       "      <td>Nubank</td>\n",
       "      <td>641</td>\n",
       "    </tr>\n",
       "    <tr>\n",
       "      <th>1</th>\n",
       "      <td>Banco do Brasil</td>\n",
       "      <td>541</td>\n",
       "    </tr>\n",
       "    <tr>\n",
       "      <th>2</th>\n",
       "      <td>Caixa Econômica Federal</td>\n",
       "      <td>465</td>\n",
       "    </tr>\n",
       "    <tr>\n",
       "      <th>3</th>\n",
       "      <td>Banco Santander</td>\n",
       "      <td>310</td>\n",
       "    </tr>\n",
       "    <tr>\n",
       "      <th>4</th>\n",
       "      <td>Mercado Pago</td>\n",
       "      <td>297</td>\n",
       "    </tr>\n",
       "    <tr>\n",
       "      <th>5</th>\n",
       "      <td>Banco Bradesco</td>\n",
       "      <td>278</td>\n",
       "    </tr>\n",
       "    <tr>\n",
       "      <th>6</th>\n",
       "      <td>Banco Itaú Unibanco</td>\n",
       "      <td>268</td>\n",
       "    </tr>\n",
       "    <tr>\n",
       "      <th>7</th>\n",
       "      <td>Banco Pan</td>\n",
       "      <td>235</td>\n",
       "    </tr>\n",
       "    <tr>\n",
       "      <th>8</th>\n",
       "      <td>Banco Inter (Banco Intermedium)</td>\n",
       "      <td>217</td>\n",
       "    </tr>\n",
       "    <tr>\n",
       "      <th>9</th>\n",
       "      <td>C6 Bank</td>\n",
       "      <td>150</td>\n",
       "    </tr>\n",
       "    <tr>\n",
       "      <th>10</th>\n",
       "      <td>PicPay</td>\n",
       "      <td>129</td>\n",
       "    </tr>\n",
       "  </tbody>\n",
       "</table>\n",
       "</div>"
      ],
      "text/plain": [
       "                            Empresa  Quantidade Relatos\n",
       "0                            Nubank                 641\n",
       "1                   Banco do Brasil                 541\n",
       "2           Caixa Econômica Federal                 465\n",
       "3                   Banco Santander                 310\n",
       "4                      Mercado Pago                 297\n",
       "5                    Banco Bradesco                 278\n",
       "6               Banco Itaú Unibanco                 268\n",
       "7                         Banco Pan                 235\n",
       "8   Banco Inter (Banco Intermedium)                 217\n",
       "9                           C6 Bank                 150\n",
       "10                           PicPay                 129"
      ]
     },
     "execution_count": 18,
     "metadata": {},
     "output_type": "execute_result"
    }
   ],
   "source": [
    "#Verificando ocorrências\n",
    "\n",
    "dados_financeiros.Empresa.value_counts().reset_index(name='Quantidade Relatos')"
   ]
  },
  {
   "cell_type": "code",
   "execution_count": 19,
   "metadata": {},
   "outputs": [
    {
     "data": {
      "text/html": [
       "<div>\n",
       "<style scoped>\n",
       "    .dataframe tbody tr th:only-of-type {\n",
       "        vertical-align: middle;\n",
       "    }\n",
       "\n",
       "    .dataframe tbody tr th {\n",
       "        vertical-align: top;\n",
       "    }\n",
       "\n",
       "    .dataframe thead th {\n",
       "        text-align: right;\n",
       "    }\n",
       "</style>\n",
       "<table border=\"1\" class=\"dataframe\">\n",
       "  <thead>\n",
       "    <tr style=\"text-align: right;\">\n",
       "      <th></th>\n",
       "      <th>Empresa</th>\n",
       "      <th>Relato</th>\n",
       "      <th>Avaliacao</th>\n",
       "    </tr>\n",
       "  </thead>\n",
       "  <tbody>\n",
       "    <tr>\n",
       "      <th>46</th>\n",
       "      <td>Nubank</td>\n",
       "      <td>Estão adicionando valores de juros abusivos e ...</td>\n",
       "      <td>Nota 1</td>\n",
       "    </tr>\n",
       "    <tr>\n",
       "      <th>47</th>\n",
       "      <td>Caixa Econômica Federal</td>\n",
       "      <td>Eu fiz um empréstimo e atrasei para pagar, man...</td>\n",
       "      <td>Nota 4</td>\n",
       "    </tr>\n",
       "    <tr>\n",
       "      <th>117</th>\n",
       "      <td>Caixa Econômica Federal</td>\n",
       "      <td>A loja da shoppe descontou 429,57 no meu Pix n...</td>\n",
       "      <td>Nota 5</td>\n",
       "    </tr>\n",
       "    <tr>\n",
       "      <th>124</th>\n",
       "      <td>Nubank</td>\n",
       "      <td>.Entendo que pelo pagamento ter sido recente, ...</td>\n",
       "      <td>Nota 5</td>\n",
       "    </tr>\n",
       "    <tr>\n",
       "      <th>133</th>\n",
       "      <td>Nubank</td>\n",
       "      <td>Foi solicitado a Nubank que retirassem mas os ...</td>\n",
       "      <td>Nota 1</td>\n",
       "    </tr>\n",
       "  </tbody>\n",
       "</table>\n",
       "</div>"
      ],
      "text/plain": [
       "                     Empresa  \\\n",
       "46                    Nubank   \n",
       "47   Caixa Econômica Federal   \n",
       "117  Caixa Econômica Federal   \n",
       "124                   Nubank   \n",
       "133                   Nubank   \n",
       "\n",
       "                                                Relato Avaliacao  \n",
       "46   Estão adicionando valores de juros abusivos e ...    Nota 1  \n",
       "47   Eu fiz um empréstimo e atrasei para pagar, man...    Nota 4  \n",
       "117  A loja da shoppe descontou 429,57 no meu Pix n...    Nota 5  \n",
       "124  .Entendo que pelo pagamento ter sido recente, ...    Nota 5  \n",
       "133  Foi solicitado a Nubank que retirassem mas os ...    Nota 1  "
      ]
     },
     "execution_count": 19,
     "metadata": {},
     "output_type": "execute_result"
    }
   ],
   "source": [
    "dados_financeiros.head(5)"
   ]
  },
  {
   "cell_type": "code",
   "execution_count": 20,
   "metadata": {},
   "outputs": [],
   "source": [
    "dados_financeiros['Avaliacao'] = dados_financeiros['Avaliacao'].str.extract(r'(\\d+)')"
   ]
  },
  {
   "cell_type": "code",
   "execution_count": 21,
   "metadata": {},
   "outputs": [
    {
     "name": "stdout",
     "output_type": "stream",
     "text": [
      "<class 'pandas.core.frame.DataFrame'>\n",
      "Index: 3531 entries, 46 to 21558\n",
      "Data columns (total 3 columns):\n",
      " #   Column     Non-Null Count  Dtype \n",
      "---  ------     --------------  ----- \n",
      " 0   Empresa    3531 non-null   object\n",
      " 1   Relato     3531 non-null   object\n",
      " 2   Avaliacao  3531 non-null   object\n",
      "dtypes: object(3)\n",
      "memory usage: 110.3+ KB\n"
     ]
    }
   ],
   "source": [
    "dados_financeiros.info()"
   ]
  },
  {
   "cell_type": "markdown",
   "metadata": {},
   "source": [
    "### <font color='green'> Remoção de pontuações e deixando o texto em caixa baixa"
   ]
  },
  {
   "cell_type": "code",
   "execution_count": 22,
   "metadata": {},
   "outputs": [],
   "source": [
    "def processa_sentimento(text):\n",
    "    # Minuscula\n",
    "    text = text.lower()\n",
    "\n",
    "    # Retirando pontuações, exceto \".\"\n",
    "    text = re.sub(r'[^\\w\\s.]', '', text)\n",
    "\n",
    "    # Retirando números\n",
    "    text = re.sub(r'\\d+', '', text)\n",
    "\n",
    "    return text"
   ]
  },
  {
   "cell_type": "code",
   "execution_count": 23,
   "metadata": {},
   "outputs": [],
   "source": [
    "dados_financeiros['Relato'] = dados_financeiros['Relato'].apply(processa_sentimento)"
   ]
  },
  {
   "cell_type": "code",
   "execution_count": 24,
   "metadata": {},
   "outputs": [
    {
     "data": {
      "text/html": [
       "<div>\n",
       "<style scoped>\n",
       "    .dataframe tbody tr th:only-of-type {\n",
       "        vertical-align: middle;\n",
       "    }\n",
       "\n",
       "    .dataframe tbody tr th {\n",
       "        vertical-align: top;\n",
       "    }\n",
       "\n",
       "    .dataframe thead th {\n",
       "        text-align: right;\n",
       "    }\n",
       "</style>\n",
       "<table border=\"1\" class=\"dataframe\">\n",
       "  <thead>\n",
       "    <tr style=\"text-align: right;\">\n",
       "      <th></th>\n",
       "      <th>Empresa</th>\n",
       "      <th>Relato</th>\n",
       "      <th>Avaliacao</th>\n",
       "    </tr>\n",
       "  </thead>\n",
       "  <tbody>\n",
       "    <tr>\n",
       "      <th>11540</th>\n",
       "      <td>Caixa Econômica Federal</td>\n",
       "      <td>em . quitei o financiamento junto a caixa mas ...</td>\n",
       "      <td>5</td>\n",
       "    </tr>\n",
       "    <tr>\n",
       "      <th>9969</th>\n",
       "      <td>Banco Bradesco</td>\n",
       "      <td>no dia  compareci acompanhado de minha mãe à a...</td>\n",
       "      <td>1</td>\n",
       "    </tr>\n",
       "    <tr>\n",
       "      <th>3834</th>\n",
       "      <td>Mercado Pago</td>\n",
       "      <td>no dia  após finalizado  dias do investimento ...</td>\n",
       "      <td>3</td>\n",
       "    </tr>\n",
       "    <tr>\n",
       "      <th>11144</th>\n",
       "      <td>Banco do Brasil</td>\n",
       "      <td>ha alguns meses tive problemas de saude na fam...</td>\n",
       "      <td>1</td>\n",
       "    </tr>\n",
       "    <tr>\n",
       "      <th>9012</th>\n",
       "      <td>Nubank</td>\n",
       "      <td>recebi um email da nubank no dia  as  para rea...</td>\n",
       "      <td>1</td>\n",
       "    </tr>\n",
       "    <tr>\n",
       "      <th>17196</th>\n",
       "      <td>Nubank</td>\n",
       "      <td>nu bank transformou minha dívida de r . em mai...</td>\n",
       "      <td>1</td>\n",
       "    </tr>\n",
       "    <tr>\n",
       "      <th>15885</th>\n",
       "      <td>Banco do Brasil</td>\n",
       "      <td>prezados conforme resolução nº . de  de março ...</td>\n",
       "      <td>1</td>\n",
       "    </tr>\n",
       "    <tr>\n",
       "      <th>15532</th>\n",
       "      <td>Banco Inter (Banco Intermedium)</td>\n",
       "      <td>meu nome consta no registrato do banco central...</td>\n",
       "      <td>5</td>\n",
       "    </tr>\n",
       "    <tr>\n",
       "      <th>518</th>\n",
       "      <td>C6 Bank</td>\n",
       "      <td>sou cliente c a mais de  anos nunca atrasei  d...</td>\n",
       "      <td>1</td>\n",
       "    </tr>\n",
       "    <tr>\n",
       "      <th>11141</th>\n",
       "      <td>C6 Bank</td>\n",
       "      <td>fui vitima de estelionato no dia  entrei em co...</td>\n",
       "      <td>1</td>\n",
       "    </tr>\n",
       "    <tr>\n",
       "      <th>15362</th>\n",
       "      <td>Nubank</td>\n",
       "      <td>nubank está cobrando juros abusivo na evolução...</td>\n",
       "      <td>1</td>\n",
       "    </tr>\n",
       "    <tr>\n",
       "      <th>2815</th>\n",
       "      <td>Banco do Brasil</td>\n",
       "      <td>boa tarde venho tentando solucionar junto a em...</td>\n",
       "      <td>1</td>\n",
       "    </tr>\n",
       "    <tr>\n",
       "      <th>14025</th>\n",
       "      <td>Banco do Brasil</td>\n",
       "      <td>dívida com mais de  ainda está divulgando no s...</td>\n",
       "      <td>5</td>\n",
       "    </tr>\n",
       "    <tr>\n",
       "      <th>7559</th>\n",
       "      <td>Banco Bradesco</td>\n",
       "      <td>tendo em vista a dificuldades de acesso com a ...</td>\n",
       "      <td>1</td>\n",
       "    </tr>\n",
       "    <tr>\n",
       "      <th>12067</th>\n",
       "      <td>PicPay</td>\n",
       "      <td>quero cancelar o parcelamento pois vou pagar j...</td>\n",
       "      <td>3</td>\n",
       "    </tr>\n",
       "  </tbody>\n",
       "</table>\n",
       "</div>"
      ],
      "text/plain": [
       "                               Empresa  \\\n",
       "11540          Caixa Econômica Federal   \n",
       "9969                    Banco Bradesco   \n",
       "3834                      Mercado Pago   \n",
       "11144                  Banco do Brasil   \n",
       "9012                            Nubank   \n",
       "17196                           Nubank   \n",
       "15885                  Banco do Brasil   \n",
       "15532  Banco Inter (Banco Intermedium)   \n",
       "518                            C6 Bank   \n",
       "11141                          C6 Bank   \n",
       "15362                           Nubank   \n",
       "2815                   Banco do Brasil   \n",
       "14025                  Banco do Brasil   \n",
       "7559                    Banco Bradesco   \n",
       "12067                           PicPay   \n",
       "\n",
       "                                                  Relato Avaliacao  \n",
       "11540  em . quitei o financiamento junto a caixa mas ...         5  \n",
       "9969   no dia  compareci acompanhado de minha mãe à a...         1  \n",
       "3834   no dia  após finalizado  dias do investimento ...         3  \n",
       "11144  ha alguns meses tive problemas de saude na fam...         1  \n",
       "9012   recebi um email da nubank no dia  as  para rea...         1  \n",
       "17196  nu bank transformou minha dívida de r . em mai...         1  \n",
       "15885  prezados conforme resolução nº . de  de março ...         1  \n",
       "15532  meu nome consta no registrato do banco central...         5  \n",
       "518    sou cliente c a mais de  anos nunca atrasei  d...         1  \n",
       "11141  fui vitima de estelionato no dia  entrei em co...         1  \n",
       "15362  nubank está cobrando juros abusivo na evolução...         1  \n",
       "2815   boa tarde venho tentando solucionar junto a em...         1  \n",
       "14025  dívida com mais de  ainda está divulgando no s...         5  \n",
       "7559   tendo em vista a dificuldades de acesso com a ...         1  \n",
       "12067  quero cancelar o parcelamento pois vou pagar j...         3  "
      ]
     },
     "execution_count": 24,
     "metadata": {},
     "output_type": "execute_result"
    }
   ],
   "source": [
    "dados_financeiros.sample(15)"
   ]
  },
  {
   "cell_type": "code",
   "execution_count": 25,
   "metadata": {},
   "outputs": [],
   "source": [
    "dados_financeiros.to_csv('/Projetos Pessoais/DataScience/PLN_Text_Analysis/data/dados_financeiros_sentimentos.csv',\n",
    "                       sep =',', index = False, encoding = 'utf-8')\n"
   ]
  },
  {
   "cell_type": "markdown",
   "metadata": {},
   "source": [
    "### <font color='green'> Pré processamento para frequência - TF IDF e Collocations"
   ]
  },
  {
   "cell_type": "markdown",
   "metadata": {},
   "source": [
    "- Tokennizando os textos"
   ]
  },
  {
   "cell_type": "code",
   "execution_count": 26,
   "metadata": {},
   "outputs": [
    {
     "data": {
      "text/plain": [
       "['Data', 'Science', 'Academy', '2024']"
      ]
     },
     "execution_count": 26,
     "metadata": {},
     "output_type": "execute_result"
    }
   ],
   "source": [
    "word_tokenize(\"Data Science Academy 2024\")"
   ]
  },
  {
   "cell_type": "code",
   "execution_count": 27,
   "metadata": {},
   "outputs": [],
   "source": [
    "# Carregar modelo em português\n",
    "lematizacao = spacy.load(\"pt_core_news_sm\") \n",
    "\n",
    "# Aplicar lematização em cada relato\n",
    "dados_financeiros['Relato_Lematizado'] = dados_financeiros['Relato'].apply(lambda tokens: [token.lemma_ for token in lematizacao(\" \".join(tokens))])"
   ]
  },
  {
   "cell_type": "code",
   "execution_count": 29,
   "metadata": {},
   "outputs": [
    {
     "name": "stdout",
     "output_type": "stream",
     "text": [
      "                       Empresa  \\\n",
      "46                      Nubank   \n",
      "47     Caixa Econômica Federal   \n",
      "117    Caixa Econômica Federal   \n",
      "124                     Nubank   \n",
      "133                     Nubank   \n",
      "...                        ...   \n",
      "21534                  C6 Bank   \n",
      "21539          Banco Santander   \n",
      "21545          Banco do Brasil   \n",
      "21547                  C6 Bank   \n",
      "21558                  C6 Bank   \n",
      "\n",
      "                                                  Relato Avaliacao  \\\n",
      "46     estão adicionando valores de juros abusivos e ...         1   \n",
      "47     eu fiz um empréstimo e atrasei para pagar mand...         4   \n",
      "117    a loja da shoppe descontou  no meu pix não com...         5   \n",
      "124    .entendo que pelo pagamento ter sido recente p...         5   \n",
      "133    foi solicitado a nubank que retirassem mas os ...         1   \n",
      "...                                                  ...       ...   \n",
      "21534  o banco reduziu meu limite sem nenhum comunica...         1   \n",
      "21539  efetuei o pagamento do acordo referente a fatu...         3   \n",
      "21545  paguei o acordo do cartão ainda consta no rela...         3   \n",
      "21547  o banco bloqueou o cartão de crédito alegando ...         1   \n",
      "21558  contratei a banco c bank pj após eu abrir meu ...         1   \n",
      "\n",
      "                                       Relato_Lematizado  \n",
      "46     estar adicionar valor de juro abusivo e a cada...  \n",
      "47     eu fiz um empréstimo e atrasar para pagar mand...  \n",
      "117    o loja de o Shoppe descontar   em o meu pix nã...  \n",
      "124    .entendo que por o pagamento ter ser recente p...  \n",
      "133    ser solicitar a nubank que retirar mas o mesmo...  \n",
      "...                                                  ...  \n",
      "21534  o banco reduzir meu limite sem nenhum comunica...  \n",
      "21539  efetuei o pagamento de o acordo referente o fa...  \n",
      "21545  paguei o acordo de o cartão ainda constar em o...  \n",
      "21547  o banco bloquear o cartão de crédito alegar qu...  \n",
      "21558  contratar a Banco c bank pj após eu abrir meu ...  \n",
      "\n",
      "[3531 rows x 4 columns]\n"
     ]
    }
   ],
   "source": [
    "nlp = spacy.load(\"pt_core_news_sm\")\n",
    "\n",
    "# Função para lematizar uma frase completa\n",
    "def lematizar_frase(frase):\n",
    "    doc = nlp(frase)\n",
    "    return \" \".join([token.lemma_ for token in doc])\n",
    "\n",
    "dados_financeiros['Relato_Lematizado'] = dados_financeiros['Relato'].apply(lematizar_frase)\n",
    "\n",
    "# Exibir o DataFrame resultante\n",
    "print(dados_financeiros[['Empresa', 'Relato', 'Avaliacao', 'Relato_Lematizado']])\n"
   ]
  },
  {
   "cell_type": "code",
   "execution_count": 99,
   "metadata": {},
   "outputs": [],
   "source": [
    "dados_sem_sw = dados_financeiros.copy()"
   ]
  },
  {
   "cell_type": "code",
   "execution_count": 100,
   "metadata": {},
   "outputs": [
    {
     "data": {
      "text/plain": [
       "195"
      ]
     },
     "execution_count": 100,
     "metadata": {},
     "output_type": "execute_result"
    }
   ],
   "source": [
    "len(dados_financeiros['Relato'].iloc[0])"
   ]
  },
  {
   "cell_type": "code",
   "execution_count": 101,
   "metadata": {},
   "outputs": [
    {
     "data": {
      "text/plain": [
       "199"
      ]
     },
     "execution_count": 101,
     "metadata": {},
     "output_type": "execute_result"
    }
   ],
   "source": [
    "len(dados_financeiros['Relato_Lematizado'].iloc[0])"
   ]
  },
  {
   "cell_type": "code",
   "execution_count": 102,
   "metadata": {},
   "outputs": [
    {
     "data": {
      "text/html": [
       "<div>\n",
       "<style scoped>\n",
       "    .dataframe tbody tr th:only-of-type {\n",
       "        vertical-align: middle;\n",
       "    }\n",
       "\n",
       "    .dataframe tbody tr th {\n",
       "        vertical-align: top;\n",
       "    }\n",
       "\n",
       "    .dataframe thead th {\n",
       "        text-align: right;\n",
       "    }\n",
       "</style>\n",
       "<table border=\"1\" class=\"dataframe\">\n",
       "  <thead>\n",
       "    <tr style=\"text-align: right;\">\n",
       "      <th></th>\n",
       "      <th>Empresa</th>\n",
       "      <th>Relato</th>\n",
       "      <th>Avaliacao</th>\n",
       "      <th>Relato_Lematizado</th>\n",
       "    </tr>\n",
       "  </thead>\n",
       "  <tbody>\n",
       "    <tr>\n",
       "      <th>23</th>\n",
       "      <td>Caixa Econômica Federal</td>\n",
       "      <td>não consigo crédito pra fazer um empréstimo me...</td>\n",
       "      <td>3</td>\n",
       "      <td>não consigir crédito pra fazer um empréstimo m...</td>\n",
       "    </tr>\n",
       "    <tr>\n",
       "      <th>41</th>\n",
       "      <td>Nubank</td>\n",
       "      <td>ja houve o pagamento da negociacao</td>\n",
       "      <td>2</td>\n",
       "      <td>ja haver o pagamento de o negociacao</td>\n",
       "    </tr>\n",
       "    <tr>\n",
       "      <th>45</th>\n",
       "      <td>Nubank</td>\n",
       "      <td>exclusao do nome retirar negativacao do nome s...</td>\n",
       "      <td>1</td>\n",
       "      <td>exclusao de o nome retirar negativacao de o no...</td>\n",
       "    </tr>\n",
       "    <tr>\n",
       "      <th>49</th>\n",
       "      <td>C6 Bank</td>\n",
       "      <td>sou cliente do c6 bank há tempos sempre manten...</td>\n",
       "      <td>1</td>\n",
       "      <td>ser cliente de o c6 bank haver tempo sempre ma...</td>\n",
       "    </tr>\n",
       "    <tr>\n",
       "      <th>52</th>\n",
       "      <td>Nubank</td>\n",
       "      <td>gostaria de reclamar sobre essa dívida quer es...</td>\n",
       "      <td>5</td>\n",
       "      <td>gostar de reclamar sobre esse dívida querer es...</td>\n",
       "    </tr>\n",
       "  </tbody>\n",
       "</table>\n",
       "</div>"
      ],
      "text/plain": [
       "                    Empresa  \\\n",
       "23  Caixa Econômica Federal   \n",
       "41                   Nubank   \n",
       "45                   Nubank   \n",
       "49                  C6 Bank   \n",
       "52                   Nubank   \n",
       "\n",
       "                                               Relato Avaliacao  \\\n",
       "23  não consigo crédito pra fazer um empréstimo me...         3   \n",
       "41                 ja houve o pagamento da negociacao         2   \n",
       "45  exclusao do nome retirar negativacao do nome s...         1   \n",
       "49  sou cliente do c6 bank há tempos sempre manten...         1   \n",
       "52  gostaria de reclamar sobre essa dívida quer es...         5   \n",
       "\n",
       "                                    Relato_Lematizado  \n",
       "23  não consigir crédito pra fazer um empréstimo m...  \n",
       "41               ja haver o pagamento de o negociacao  \n",
       "45  exclusao de o nome retirar negativacao de o no...  \n",
       "49  ser cliente de o c6 bank haver tempo sempre ma...  \n",
       "52  gostar de reclamar sobre esse dívida querer es...  "
      ]
     },
     "execution_count": 102,
     "metadata": {},
     "output_type": "execute_result"
    }
   ],
   "source": [
    "dados_financeiros.head()"
   ]
  },
  {
   "cell_type": "markdown",
   "metadata": {},
   "source": [
    "- Tratamento de StopWords"
   ]
  },
  {
   "cell_type": "code",
   "execution_count": null,
   "metadata": {},
   "outputs": [],
   "source": [
    "from nltk.tokenize import word_tokenize\n",
    "\n",
    "\n",
    "def tokenizando(texto):\n",
    " array_tokenizado = word_tokenize(texto)\n",
    " return array_tokenizado"
   ]
  },
  {
   "cell_type": "code",
   "execution_count": 114,
   "metadata": {},
   "outputs": [],
   "source": [
    "dados_sem_sw['Relato_Lematizao_SW'] = dados_sem_sw['Relato_Lematizado'].map(lambda x: tokenizando(x))"
   ]
  },
  {
   "cell_type": "code",
   "execution_count": 115,
   "metadata": {},
   "outputs": [],
   "source": [
    "# Stopwords em portugues\n",
    "stopwords_PT = set(stopwords.words(\"portuguese\"))"
   ]
  },
  {
   "cell_type": "code",
   "execution_count": 116,
   "metadata": {},
   "outputs": [],
   "source": [
    "# Função para verificar se está com Stopwords no relato dos clientes - Utilizando list comprehension\n",
    "\n",
    "def veriricaStopWord(texto):\n",
    " texto_filtrado = [palavra for palavra in texto if palavra not in stopwords_PT]\n",
    " return texto_filtrado"
   ]
  },
  {
   "cell_type": "code",
   "execution_count": 117,
   "metadata": {},
   "outputs": [
    {
     "data": {
      "text/html": [
       "<div>\n",
       "<style scoped>\n",
       "    .dataframe tbody tr th:only-of-type {\n",
       "        vertical-align: middle;\n",
       "    }\n",
       "\n",
       "    .dataframe tbody tr th {\n",
       "        vertical-align: top;\n",
       "    }\n",
       "\n",
       "    .dataframe thead th {\n",
       "        text-align: right;\n",
       "    }\n",
       "</style>\n",
       "<table border=\"1\" class=\"dataframe\">\n",
       "  <thead>\n",
       "    <tr style=\"text-align: right;\">\n",
       "      <th></th>\n",
       "      <th>Empresa</th>\n",
       "      <th>Relato</th>\n",
       "      <th>Avaliacao</th>\n",
       "      <th>Relato_Lematizado</th>\n",
       "      <th>Relato_Lematizao_SW</th>\n",
       "    </tr>\n",
       "  </thead>\n",
       "  <tbody>\n",
       "    <tr>\n",
       "      <th>23</th>\n",
       "      <td>Caixa Econômica Federal</td>\n",
       "      <td>não consigo crédito pra fazer um empréstimo me...</td>\n",
       "      <td>3</td>\n",
       "      <td>não consigir crédito pra fazer um empréstimo m...</td>\n",
       "      <td>[não, consigir, crédito, pra, fazer, um, empré...</td>\n",
       "    </tr>\n",
       "    <tr>\n",
       "      <th>41</th>\n",
       "      <td>Nubank</td>\n",
       "      <td>ja houve o pagamento da negociacao</td>\n",
       "      <td>2</td>\n",
       "      <td>ja haver o pagamento de o negociacao</td>\n",
       "      <td>[ja, haver, o, pagamento, de, o, negociacao]</td>\n",
       "    </tr>\n",
       "    <tr>\n",
       "      <th>45</th>\n",
       "      <td>Nubank</td>\n",
       "      <td>exclusao do nome retirar negativacao do nome s...</td>\n",
       "      <td>1</td>\n",
       "      <td>exclusao de o nome retirar negativacao de o no...</td>\n",
       "      <td>[exclusao, de, o, nome, retirar, negativacao, ...</td>\n",
       "    </tr>\n",
       "    <tr>\n",
       "      <th>49</th>\n",
       "      <td>C6 Bank</td>\n",
       "      <td>sou cliente do c6 bank há tempos sempre manten...</td>\n",
       "      <td>1</td>\n",
       "      <td>ser cliente de o c6 bank haver tempo sempre ma...</td>\n",
       "      <td>[ser, cliente, de, o, c6, bank, haver, tempo, ...</td>\n",
       "    </tr>\n",
       "    <tr>\n",
       "      <th>52</th>\n",
       "      <td>Nubank</td>\n",
       "      <td>gostaria de reclamar sobre essa dívida quer es...</td>\n",
       "      <td>5</td>\n",
       "      <td>gostar de reclamar sobre esse dívida querer es...</td>\n",
       "      <td>[gostar, de, reclamar, sobre, esse, dívida, qu...</td>\n",
       "    </tr>\n",
       "    <tr>\n",
       "      <th>...</th>\n",
       "      <td>...</td>\n",
       "      <td>...</td>\n",
       "      <td>...</td>\n",
       "      <td>...</td>\n",
       "      <td>...</td>\n",
       "    </tr>\n",
       "    <tr>\n",
       "      <th>10910</th>\n",
       "      <td>Banco Itaú Unibanco</td>\n",
       "      <td>solicitando a retirada da restrição de apontam...</td>\n",
       "      <td>4</td>\n",
       "      <td>solicitar o retirada de o restrição de apontam...</td>\n",
       "      <td>[solicitar, o, retirada, de, o, restrição, de,...</td>\n",
       "    </tr>\n",
       "    <tr>\n",
       "      <th>10912</th>\n",
       "      <td>Banco Itaú Unibanco</td>\n",
       "      <td>estou com dificuldade para redefinir a senha d...</td>\n",
       "      <td>1</td>\n",
       "      <td>estar com dificuldade para redefinir o senha d...</td>\n",
       "      <td>[estar, com, dificuldade, para, redefinir, o, ...</td>\n",
       "    </tr>\n",
       "    <tr>\n",
       "      <th>10923</th>\n",
       "      <td>C6 Bank</td>\n",
       "      <td>gostaria que tirassem o apontamento no registr...</td>\n",
       "      <td>5</td>\n",
       "      <td>gostar que tirar o apontamento em o registrato...</td>\n",
       "      <td>[gostar, que, tirar, o, apontamento, em, o, re...</td>\n",
       "    </tr>\n",
       "    <tr>\n",
       "      <th>10924</th>\n",
       "      <td>Banco Bradesco</td>\n",
       "      <td>sou cliente do banco bradesco e possuo um cheq...</td>\n",
       "      <td>1</td>\n",
       "      <td>ser cliente de o banco bradesco e possuor um c...</td>\n",
       "      <td>[ser, cliente, de, o, banco, bradesco, e, poss...</td>\n",
       "    </tr>\n",
       "    <tr>\n",
       "      <th>10929</th>\n",
       "      <td>Caixa Econômica Federal</td>\n",
       "      <td>prezados acabei de ligar para a minha agência ...</td>\n",
       "      <td>5</td>\n",
       "      <td>prezar acabar de ligar para o meu agência 1564...</td>\n",
       "      <td>[prezar, acabar, de, ligar, para, o, meu, agên...</td>\n",
       "    </tr>\n",
       "  </tbody>\n",
       "</table>\n",
       "<p>1920 rows × 5 columns</p>\n",
       "</div>"
      ],
      "text/plain": [
       "                       Empresa  \\\n",
       "23     Caixa Econômica Federal   \n",
       "41                      Nubank   \n",
       "45                      Nubank   \n",
       "49                     C6 Bank   \n",
       "52                      Nubank   \n",
       "...                        ...   \n",
       "10910      Banco Itaú Unibanco   \n",
       "10912      Banco Itaú Unibanco   \n",
       "10923                  C6 Bank   \n",
       "10924           Banco Bradesco   \n",
       "10929  Caixa Econômica Federal   \n",
       "\n",
       "                                                  Relato Avaliacao  \\\n",
       "23     não consigo crédito pra fazer um empréstimo me...         3   \n",
       "41                    ja houve o pagamento da negociacao         2   \n",
       "45     exclusao do nome retirar negativacao do nome s...         1   \n",
       "49     sou cliente do c6 bank há tempos sempre manten...         1   \n",
       "52     gostaria de reclamar sobre essa dívida quer es...         5   \n",
       "...                                                  ...       ...   \n",
       "10910  solicitando a retirada da restrição de apontam...         4   \n",
       "10912  estou com dificuldade para redefinir a senha d...         1   \n",
       "10923  gostaria que tirassem o apontamento no registr...         5   \n",
       "10924  sou cliente do banco bradesco e possuo um cheq...         1   \n",
       "10929  prezados acabei de ligar para a minha agência ...         5   \n",
       "\n",
       "                                       Relato_Lematizado  \\\n",
       "23     não consigir crédito pra fazer um empréstimo m...   \n",
       "41                  ja haver o pagamento de o negociacao   \n",
       "45     exclusao de o nome retirar negativacao de o no...   \n",
       "49     ser cliente de o c6 bank haver tempo sempre ma...   \n",
       "52     gostar de reclamar sobre esse dívida querer es...   \n",
       "...                                                  ...   \n",
       "10910  solicitar o retirada de o restrição de apontam...   \n",
       "10912  estar com dificuldade para redefinir o senha d...   \n",
       "10923  gostar que tirar o apontamento em o registrato...   \n",
       "10924  ser cliente de o banco bradesco e possuor um c...   \n",
       "10929  prezar acabar de ligar para o meu agência 1564...   \n",
       "\n",
       "                                     Relato_Lematizao_SW  \n",
       "23     [não, consigir, crédito, pra, fazer, um, empré...  \n",
       "41          [ja, haver, o, pagamento, de, o, negociacao]  \n",
       "45     [exclusao, de, o, nome, retirar, negativacao, ...  \n",
       "49     [ser, cliente, de, o, c6, bank, haver, tempo, ...  \n",
       "52     [gostar, de, reclamar, sobre, esse, dívida, qu...  \n",
       "...                                                  ...  \n",
       "10910  [solicitar, o, retirada, de, o, restrição, de,...  \n",
       "10912  [estar, com, dificuldade, para, redefinir, o, ...  \n",
       "10923  [gostar, que, tirar, o, apontamento, em, o, re...  \n",
       "10924  [ser, cliente, de, o, banco, bradesco, e, poss...  \n",
       "10929  [prezar, acabar, de, ligar, para, o, meu, agên...  \n",
       "\n",
       "[1920 rows x 5 columns]"
      ]
     },
     "execution_count": 117,
     "metadata": {},
     "output_type": "execute_result"
    }
   ],
   "source": [
    "dados_sem_sw"
   ]
  },
  {
   "cell_type": "code",
   "execution_count": 149,
   "metadata": {},
   "outputs": [],
   "source": [
    "dados_sem_sw['Relato_Lematizao_SW'] = dados_sem_sw['Relato_Lematizao_SW'].map(lambda x: veriricaStopWord(x))"
   ]
  },
  {
   "cell_type": "code",
   "execution_count": 150,
   "metadata": {},
   "outputs": [],
   "source": [
    "dados_prontos = dados_sem_sw.copy()"
   ]
  },
  {
   "cell_type": "code",
   "execution_count": 151,
   "metadata": {},
   "outputs": [],
   "source": [
    "# Remove numeros\n",
    "def remove_numbers(tokens):\n",
    "    return [word for word in tokens if not re.search(r'\\d', word)]\n",
    "\n",
    "\n",
    "# Aplicando a função no seu DataFrame\n",
    "dados_prontos['Relato_Lematizao_SW'] = dados_prontos['Relato_Lematizao_SW'].apply(remove_numbers)"
   ]
  },
  {
   "cell_type": "code",
   "execution_count": 153,
   "metadata": {},
   "outputs": [
    {
     "data": {
      "text/html": [
       "<div>\n",
       "<style scoped>\n",
       "    .dataframe tbody tr th:only-of-type {\n",
       "        vertical-align: middle;\n",
       "    }\n",
       "\n",
       "    .dataframe tbody tr th {\n",
       "        vertical-align: top;\n",
       "    }\n",
       "\n",
       "    .dataframe thead th {\n",
       "        text-align: right;\n",
       "    }\n",
       "</style>\n",
       "<table border=\"1\" class=\"dataframe\">\n",
       "  <thead>\n",
       "    <tr style=\"text-align: right;\">\n",
       "      <th></th>\n",
       "      <th>Empresa</th>\n",
       "      <th>Relato</th>\n",
       "      <th>Avaliacao</th>\n",
       "      <th>Relato_Lematizado</th>\n",
       "      <th>Relato_Lematizao_SW</th>\n",
       "    </tr>\n",
       "  </thead>\n",
       "  <tbody>\n",
       "    <tr>\n",
       "      <th>10182</th>\n",
       "      <td>Banco Santander</td>\n",
       "      <td>quitei uma divida com um desconto que o propri...</td>\n",
       "      <td>3</td>\n",
       "      <td>quitar um divido com um desconto que o proprio...</td>\n",
       "      <td>[quitar, divido, desconto, proprio, banco, for...</td>\n",
       "    </tr>\n",
       "    <tr>\n",
       "      <th>2155</th>\n",
       "      <td>Nubank</td>\n",
       "      <td>olá gostaria que fizessem uma simulação corret...</td>\n",
       "      <td>1</td>\n",
       "      <td>olá gostar que fizer um simulação correto de o...</td>\n",
       "      <td>[gostar, fizer, simulação, correto, fatura, ve...</td>\n",
       "    </tr>\n",
       "    <tr>\n",
       "      <th>3344</th>\n",
       "      <td>Banco Inter (Banco Intermedium)</td>\n",
       "      <td>meu nome continua com problemas pra conseguir ...</td>\n",
       "      <td>2</td>\n",
       "      <td>meu nome continuar com problema pra conseguir ...</td>\n",
       "      <td>[nome, continuar, problema, conseguir, cartão,...</td>\n",
       "    </tr>\n",
       "    <tr>\n",
       "      <th>10821</th>\n",
       "      <td>Mercado Pago</td>\n",
       "      <td>em 160924 fizemos uma compra de luvas no site ...</td>\n",
       "      <td>5</td>\n",
       "      <td>em 160924 fizemos um compra de luva em o site ...</td>\n",
       "      <td>[fizemos, compra, luva, site, napoli, descartá...</td>\n",
       "    </tr>\n",
       "    <tr>\n",
       "      <th>9492</th>\n",
       "      <td>C6 Bank</td>\n",
       "      <td>após uma recaída que levou meu filho pedro hac...</td>\n",
       "      <td>1</td>\n",
       "      <td>após um recaída que levar meu filho Pedro hach...</td>\n",
       "      <td>[recaída, levar, filho, Pedro, hachiya, rangel...</td>\n",
       "    </tr>\n",
       "  </tbody>\n",
       "</table>\n",
       "</div>"
      ],
      "text/plain": [
       "                               Empresa  \\\n",
       "10182                  Banco Santander   \n",
       "2155                            Nubank   \n",
       "3344   Banco Inter (Banco Intermedium)   \n",
       "10821                     Mercado Pago   \n",
       "9492                           C6 Bank   \n",
       "\n",
       "                                                  Relato Avaliacao  \\\n",
       "10182  quitei uma divida com um desconto que o propri...         3   \n",
       "2155   olá gostaria que fizessem uma simulação corret...         1   \n",
       "3344   meu nome continua com problemas pra conseguir ...         2   \n",
       "10821  em 160924 fizemos uma compra de luvas no site ...         5   \n",
       "9492   após uma recaída que levou meu filho pedro hac...         1   \n",
       "\n",
       "                                       Relato_Lematizado  \\\n",
       "10182  quitar um divido com um desconto que o proprio...   \n",
       "2155   olá gostar que fizer um simulação correto de o...   \n",
       "3344   meu nome continuar com problema pra conseguir ...   \n",
       "10821  em 160924 fizemos um compra de luva em o site ...   \n",
       "9492   após um recaída que levar meu filho Pedro hach...   \n",
       "\n",
       "                                     Relato_Lematizao_SW  \n",
       "10182  [quitar, divido, desconto, proprio, banco, for...  \n",
       "2155   [gostar, fizer, simulação, correto, fatura, ve...  \n",
       "3344   [nome, continuar, problema, conseguir, cartão,...  \n",
       "10821  [fizemos, compra, luva, site, napoli, descartá...  \n",
       "9492   [recaída, levar, filho, Pedro, hachiya, rangel...  "
      ]
     },
     "execution_count": 153,
     "metadata": {},
     "output_type": "execute_result"
    }
   ],
   "source": [
    "dados_prontos.sample(5)"
   ]
  },
  {
   "cell_type": "code",
   "execution_count": null,
   "metadata": {},
   "outputs": [],
   "source": [
    "# Adicionando novas Stopwords\n",
    "stopwords_PT.update({'fiz', 'ja', 'olá', 'ter', 'dar', 'aqui', 'ir', 'dia', 'pra', 'uso', 'após', 'consigir', 'pois', 'abrir', 'pq'})"
   ]
  },
  {
   "cell_type": "code",
   "execution_count": 154,
   "metadata": {},
   "outputs": [],
   "source": [
    "# Retirando colunas desnecessárias ao problema de negócio\n",
    "dados_prontos.drop(columns={\"Relato\", \"Avaliacao\", \"Relato_Lematizado\"}, inplace=True)"
   ]
  },
  {
   "cell_type": "code",
   "execution_count": 156,
   "metadata": {},
   "outputs": [
    {
     "data": {
      "text/html": [
       "<div>\n",
       "<style scoped>\n",
       "    .dataframe tbody tr th:only-of-type {\n",
       "        vertical-align: middle;\n",
       "    }\n",
       "\n",
       "    .dataframe tbody tr th {\n",
       "        vertical-align: top;\n",
       "    }\n",
       "\n",
       "    .dataframe thead th {\n",
       "        text-align: right;\n",
       "    }\n",
       "</style>\n",
       "<table border=\"1\" class=\"dataframe\">\n",
       "  <thead>\n",
       "    <tr style=\"text-align: right;\">\n",
       "      <th></th>\n",
       "      <th>Empresa</th>\n",
       "      <th>Relato_Lematizao_SW</th>\n",
       "    </tr>\n",
       "  </thead>\n",
       "  <tbody>\n",
       "    <tr>\n",
       "      <th>7947</th>\n",
       "      <td>Banco Itaú Unibanco</td>\n",
       "      <td>[entrar, contato, banco, solicitar, revogação,...</td>\n",
       "    </tr>\n",
       "  </tbody>\n",
       "</table>\n",
       "</div>"
      ],
      "text/plain": [
       "                  Empresa                                Relato_Lematizao_SW\n",
       "7947  Banco Itaú Unibanco  [entrar, contato, banco, solicitar, revogação,..."
      ]
     },
     "execution_count": 156,
     "metadata": {},
     "output_type": "execute_result"
    }
   ],
   "source": [
    "dados_prontos.sample()"
   ]
  },
  {
   "cell_type": "code",
   "execution_count": 157,
   "metadata": {},
   "outputs": [],
   "source": [
    "dados_prontos.to_csv('/Projetos Pessoais/DataScience/PLN_Text_Analysis/data/dados_Frequency.csv',\n",
    "                       sep =',', index = False, encoding = 'utf-8')"
   ]
  },
  {
   "cell_type": "code",
   "execution_count": null,
   "metadata": {},
   "outputs": [],
   "source": []
  }
 ],
 "metadata": {
  "kernelspec": {
   "display_name": "base",
   "language": "python",
   "name": "python3"
  },
  "language_info": {
   "codemirror_mode": {
    "name": "ipython",
    "version": 3
   },
   "file_extension": ".py",
   "mimetype": "text/x-python",
   "name": "python",
   "nbconvert_exporter": "python",
   "pygments_lexer": "ipython3",
   "version": "3.9.13"
  }
 },
 "nbformat": 4,
 "nbformat_minor": 2
}
